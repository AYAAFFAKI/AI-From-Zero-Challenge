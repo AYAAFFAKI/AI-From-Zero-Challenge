{
 "cells": [
  {
   "cell_type": "markdown",
   "metadata": {
    "id": "VO0mpnGS1eao"
   },
   "source": [
    "#Importer les Biblio et Dataset"
   ]
  },
  {
   "cell_type": "code",
   "execution_count": 86,
   "metadata": {
    "colab": {
     "base_uri": "https://localhost:8080/"
    },
    "executionInfo": {
     "elapsed": 9636,
     "status": "ok",
     "timestamp": 1761476515470,
     "user": {
      "displayName": "AYA AFFAKI",
      "userId": "16041683805763320174"
     },
     "user_tz": -60
    },
    "id": "1BnHZeHkRlT7",
    "outputId": "bb2d0025-d95c-4b01-8b6c-f05240af09c9"
   },
   "outputs": [
    {
     "name": "stdout",
     "output_type": "stream",
     "text": [
      "Requirement already satisfied: imblearn in /usr/local/lib/python3.12/dist-packages (0.0)\n",
      "Requirement already satisfied: imbalanced-learn in /usr/local/lib/python3.12/dist-packages (from imblearn) (0.14.0)\n",
      "Requirement already satisfied: numpy<3,>=1.25.2 in /usr/local/lib/python3.12/dist-packages (from imbalanced-learn->imblearn) (2.0.2)\n",
      "Requirement already satisfied: scipy<2,>=1.11.4 in /usr/local/lib/python3.12/dist-packages (from imbalanced-learn->imblearn) (1.16.2)\n",
      "Requirement already satisfied: scikit-learn<2,>=1.4.2 in /usr/local/lib/python3.12/dist-packages (from imbalanced-learn->imblearn) (1.6.1)\n",
      "Requirement already satisfied: joblib<2,>=1.2.0 in /usr/local/lib/python3.12/dist-packages (from imbalanced-learn->imblearn) (1.5.2)\n",
      "Requirement already satisfied: threadpoolctl<4,>=2.0.0 in /usr/local/lib/python3.12/dist-packages (from imbalanced-learn->imblearn) (3.6.0)\n"
     ]
    }
   ],
   "source": [
    "!pip install imblearn"
   ]
  },
  {
   "cell_type": "markdown",
   "metadata": {
    "id": "a6dd02Xewu0_"
   },
   "source": [
    "Import les Bibliotiques:\n",
    "\n",
    " -> Pandas\n",
    "\n",
    " ->NumPy\n",
    "\n",
    " ->Matplotlib\n",
    "\n",
    " ->Seaborn\n",
    "\n",
    " ->Scipy\n",
    "\n",
    " ->Sklearn\n",
    "\n",
    " ->Warnings"
   ]
  },
  {
   "cell_type": "code",
   "execution_count": 87,
   "metadata": {
    "executionInfo": {
     "elapsed": 12,
     "status": "ok",
     "timestamp": 1761476515495,
     "user": {
      "displayName": "AYA AFFAKI",
      "userId": "16041683805763320174"
     },
     "user_tz": -60
    },
    "id": "NcQXaE7NwnP_"
   },
   "outputs": [],
   "source": [
    "import pandas as pd\n",
    "import numpy  as np\n",
    "\n",
    "import matplotlib.pyplot as plt\n",
    "import seaborn as sns\n",
    "\n",
    "from scipy.stats import kstest, norm,stats\n",
    "from sklearn.preprocessing import MinMaxScaler, StandardScaler,OrdinalEncoder,OneHotEncoder\n",
    "from sklearn.model_selection import train_test_split\n",
    "\n",
    "from imblearn.over_sampling import RandomOverSampler\n",
    "\n",
    "from collections import Counter\n",
    "\n",
    "from sklearn.model_selection import train_test_split\n",
    "from sklearn.preprocessing import StandardScaler\n",
    "from sklearn.neighbors import KNeighborsClassifier\n",
    "from sklearn.metrics import accuracy_score, confusion_matrix, classification_report, recall_score, f1_score\n",
    "\n",
    "import warnings\n",
    "warnings.filterwarnings('ignore')"
   ]
  },
  {
   "cell_type": "markdown",
   "metadata": {
    "id": "azMPY71kxUs9"
   },
   "source": [
    "Import la dataset (Dataset_Fraude_Bancaire_complete.csv):"
   ]
  },
  {
   "cell_type": "code",
   "execution_count": 88,
   "metadata": {
    "colab": {
     "base_uri": "https://localhost:8080/",
     "height": 261
    },
    "executionInfo": {
     "elapsed": 86,
     "status": "ok",
     "timestamp": 1761476515589,
     "user": {
      "displayName": "AYA AFFAKI",
      "userId": "16041683805763320174"
     },
     "user_tz": -60
    },
    "id": "fnBrbuo7xXCi",
    "outputId": "089da9a5-6c6b-4d11-9b28-5311a6f41cc7"
   },
   "outputs": [
    {
     "data": {
      "application/vnd.google.colaboratory.intrinsic+json": {
       "summary": "{\n  \"name\": \"df\",\n  \"rows\": 1000,\n  \"fields\": [\n    {\n      \"column\": \"transaction_id\",\n      \"properties\": {\n        \"dtype\": \"string\",\n        \"num_unique_values\": 1000,\n        \"samples\": [\n          \"T000522\",\n          \"T000738\",\n          \"T000741\"\n        ],\n        \"semantic_type\": \"\",\n        \"description\": \"\"\n      }\n    },\n    {\n      \"column\": \"client_id\",\n      \"properties\": {\n        \"dtype\": \"string\",\n        \"num_unique_values\": 947,\n        \"samples\": [\n          \"C2633\",\n          \"C9914\",\n          \"C2306\"\n        ],\n        \"semantic_type\": \"\",\n        \"description\": \"\"\n      }\n    },\n    {\n      \"column\": \"date\",\n      \"properties\": {\n        \"dtype\": \"category\",\n        \"num_unique_values\": 93,\n        \"samples\": [\n          \"10/08/2025\",\n          \"23/07/2025\",\n          \"25/08/2025\"\n        ],\n        \"semantic_type\": \"\",\n        \"description\": \"\"\n      }\n    },\n    {\n      \"column\": \"heure\",\n      \"properties\": {\n        \"dtype\": \"object\",\n        \"num_unique_values\": 993,\n        \"samples\": [\n          \"10:56:50\",\n          \"16:22:23\",\n          \"10:24:21\"\n        ],\n        \"semantic_type\": \"\",\n        \"description\": \"\"\n      }\n    },\n    {\n      \"column\": \"montant\",\n      \"properties\": {\n        \"dtype\": \"number\",\n        \"std\": 2883.1599498381984,\n        \"min\": 50.12,\n        \"max\": 9988.98,\n        \"num_unique_values\": 949,\n        \"samples\": [\n          7886.11,\n          6223.71,\n          6938.97\n        ],\n        \"semantic_type\": \"\",\n        \"description\": \"\"\n      }\n    },\n    {\n      \"column\": \"devise\",\n      \"properties\": {\n        \"dtype\": \"category\",\n        \"num_unique_values\": 3,\n        \"samples\": [\n          \"USD\",\n          \"MAD\",\n          \"EUR\"\n        ],\n        \"semantic_type\": \"\",\n        \"description\": \"\"\n      }\n    },\n    {\n      \"column\": \"type_transaction\",\n      \"properties\": {\n        \"dtype\": \"category\",\n        \"num_unique_values\": 3,\n        \"samples\": [\n          \"paiement en ligne\",\n          \"retrait\",\n          \"virement\"\n        ],\n        \"semantic_type\": \"\",\n        \"description\": \"\"\n      }\n    },\n    {\n      \"column\": \"lieu\",\n      \"properties\": {\n        \"dtype\": \"category\",\n        \"num_unique_values\": 5,\n        \"samples\": [\n          \"Tanger\",\n          \"Marrakech\",\n          \"Casablanca\"\n        ],\n        \"semantic_type\": \"\",\n        \"description\": \"\"\n      }\n    },\n    {\n      \"column\": \"canal\",\n      \"properties\": {\n        \"dtype\": \"category\",\n        \"num_unique_values\": 4,\n        \"samples\": [\n          \"application mobile\",\n          \"en ligne\",\n          \"carte\"\n        ],\n        \"semantic_type\": \"\",\n        \"description\": \"\"\n      }\n    },\n    {\n      \"column\": \"moyen_paiement\",\n      \"properties\": {\n        \"dtype\": \"category\",\n        \"num_unique_values\": 4,\n        \"samples\": [\n          \"Amex\",\n          \"Cash\",\n          \"Visa\"\n        ],\n        \"semantic_type\": \"\",\n        \"description\": \"\"\n      }\n    },\n    {\n      \"column\": \"categorie_commerce\",\n      \"properties\": {\n        \"dtype\": \"category\",\n        \"num_unique_values\": 5,\n        \"samples\": [\n          \"voyage\",\n          \"mode\",\n          \"sant\\u00e9\"\n        ],\n        \"semantic_type\": \"\",\n        \"description\": \"\"\n      }\n    },\n    {\n      \"column\": \"device_utilise\",\n      \"properties\": {\n        \"dtype\": \"category\",\n        \"num_unique_values\": 4,\n        \"samples\": [\n          \"ATM\",\n          \"Web\",\n          \"Android\"\n        ],\n        \"semantic_type\": \"\",\n        \"description\": \"\"\n      }\n    },\n    {\n      \"column\": \"score_risque_client\",\n      \"properties\": {\n        \"dtype\": \"number\",\n        \"std\": 2,\n        \"min\": 1,\n        \"max\": 10,\n        \"num_unique_values\": 10,\n        \"samples\": [\n          8,\n          9,\n          7\n        ],\n        \"semantic_type\": \"\",\n        \"description\": \"\"\n      }\n    },\n    {\n      \"column\": \"is_fraud\",\n      \"properties\": {\n        \"dtype\": \"number\",\n        \"std\": 0,\n        \"min\": 0,\n        \"max\": 1,\n        \"num_unique_values\": 2,\n        \"samples\": [\n          1,\n          0\n        ],\n        \"semantic_type\": \"\",\n        \"description\": \"\"\n      }\n    }\n  ]\n}",
       "type": "dataframe",
       "variable_name": "df"
      },
      "text/html": [
       "\n",
       "  <div id=\"df-4b4f596d-6970-48a7-9b05-7a845ec3947a\" class=\"colab-df-container\">\n",
       "    <div>\n",
       "<style scoped>\n",
       "    .dataframe tbody tr th:only-of-type {\n",
       "        vertical-align: middle;\n",
       "    }\n",
       "\n",
       "    .dataframe tbody tr th {\n",
       "        vertical-align: top;\n",
       "    }\n",
       "\n",
       "    .dataframe thead th {\n",
       "        text-align: right;\n",
       "    }\n",
       "</style>\n",
       "<table border=\"1\" class=\"dataframe\">\n",
       "  <thead>\n",
       "    <tr style=\"text-align: right;\">\n",
       "      <th></th>\n",
       "      <th>transaction_id</th>\n",
       "      <th>client_id</th>\n",
       "      <th>date</th>\n",
       "      <th>heure</th>\n",
       "      <th>montant</th>\n",
       "      <th>devise</th>\n",
       "      <th>type_transaction</th>\n",
       "      <th>lieu</th>\n",
       "      <th>canal</th>\n",
       "      <th>moyen_paiement</th>\n",
       "      <th>categorie_commerce</th>\n",
       "      <th>device_utilise</th>\n",
       "      <th>score_risque_client</th>\n",
       "      <th>is_fraud</th>\n",
       "    </tr>\n",
       "  </thead>\n",
       "  <tbody>\n",
       "    <tr>\n",
       "      <th>0</th>\n",
       "      <td>T000001</td>\n",
       "      <td>C8270</td>\n",
       "      <td>01/07/2025</td>\n",
       "      <td>22:38:02</td>\n",
       "      <td>9662.17</td>\n",
       "      <td>USD</td>\n",
       "      <td>paiement en ligne</td>\n",
       "      <td>Fès</td>\n",
       "      <td>carte</td>\n",
       "      <td>Visa</td>\n",
       "      <td>électronique</td>\n",
       "      <td>Android</td>\n",
       "      <td>5</td>\n",
       "      <td>0</td>\n",
       "    </tr>\n",
       "    <tr>\n",
       "      <th>1</th>\n",
       "      <td>T000002</td>\n",
       "      <td>C1860</td>\n",
       "      <td>01/07/2025</td>\n",
       "      <td>09:09:18</td>\n",
       "      <td>7622.33</td>\n",
       "      <td>MAD</td>\n",
       "      <td>retrait</td>\n",
       "      <td>Tanger</td>\n",
       "      <td>application mobile</td>\n",
       "      <td>Visa</td>\n",
       "      <td>voyage</td>\n",
       "      <td>ATM</td>\n",
       "      <td>9</td>\n",
       "      <td>0</td>\n",
       "    </tr>\n",
       "    <tr>\n",
       "      <th>2</th>\n",
       "      <td>T000003</td>\n",
       "      <td>C6390</td>\n",
       "      <td>01/07/2025</td>\n",
       "      <td>13:33:32</td>\n",
       "      <td>9510.19</td>\n",
       "      <td>MAD</td>\n",
       "      <td>retrait</td>\n",
       "      <td>Casablanca</td>\n",
       "      <td>application mobile</td>\n",
       "      <td>Visa</td>\n",
       "      <td>voyage</td>\n",
       "      <td>ATM</td>\n",
       "      <td>9</td>\n",
       "      <td>0</td>\n",
       "    </tr>\n",
       "    <tr>\n",
       "      <th>3</th>\n",
       "      <td>T000004</td>\n",
       "      <td>C6191</td>\n",
       "      <td>01/07/2025</td>\n",
       "      <td>22:54:27</td>\n",
       "      <td>7040.28</td>\n",
       "      <td>MAD</td>\n",
       "      <td>virement</td>\n",
       "      <td>Casablanca</td>\n",
       "      <td>guichet</td>\n",
       "      <td>Amex</td>\n",
       "      <td>santé</td>\n",
       "      <td>Android</td>\n",
       "      <td>6</td>\n",
       "      <td>0</td>\n",
       "    </tr>\n",
       "    <tr>\n",
       "      <th>4</th>\n",
       "      <td>T000005</td>\n",
       "      <td>C6734</td>\n",
       "      <td>01/07/2025</td>\n",
       "      <td>17:06:28</td>\n",
       "      <td>3015.62</td>\n",
       "      <td>MAD</td>\n",
       "      <td>virement</td>\n",
       "      <td>Fès</td>\n",
       "      <td>guichet</td>\n",
       "      <td>Amex</td>\n",
       "      <td>électronique</td>\n",
       "      <td>iOS</td>\n",
       "      <td>1</td>\n",
       "      <td>0</td>\n",
       "    </tr>\n",
       "  </tbody>\n",
       "</table>\n",
       "</div>\n",
       "    <div class=\"colab-df-buttons\">\n",
       "\n",
       "  <div class=\"colab-df-container\">\n",
       "    <button class=\"colab-df-convert\" onclick=\"convertToInteractive('df-4b4f596d-6970-48a7-9b05-7a845ec3947a')\"\n",
       "            title=\"Convert this dataframe to an interactive table.\"\n",
       "            style=\"display:none;\">\n",
       "\n",
       "  <svg xmlns=\"http://www.w3.org/2000/svg\" height=\"24px\" viewBox=\"0 -960 960 960\">\n",
       "    <path d=\"M120-120v-720h720v720H120Zm60-500h600v-160H180v160Zm220 220h160v-160H400v160Zm0 220h160v-160H400v160ZM180-400h160v-160H180v160Zm440 0h160v-160H620v160ZM180-180h160v-160H180v160Zm440 0h160v-160H620v160Z\"/>\n",
       "  </svg>\n",
       "    </button>\n",
       "\n",
       "  <style>\n",
       "    .colab-df-container {\n",
       "      display:flex;\n",
       "      gap: 12px;\n",
       "    }\n",
       "\n",
       "    .colab-df-convert {\n",
       "      background-color: #E8F0FE;\n",
       "      border: none;\n",
       "      border-radius: 50%;\n",
       "      cursor: pointer;\n",
       "      display: none;\n",
       "      fill: #1967D2;\n",
       "      height: 32px;\n",
       "      padding: 0 0 0 0;\n",
       "      width: 32px;\n",
       "    }\n",
       "\n",
       "    .colab-df-convert:hover {\n",
       "      background-color: #E2EBFA;\n",
       "      box-shadow: 0px 1px 2px rgba(60, 64, 67, 0.3), 0px 1px 3px 1px rgba(60, 64, 67, 0.15);\n",
       "      fill: #174EA6;\n",
       "    }\n",
       "\n",
       "    .colab-df-buttons div {\n",
       "      margin-bottom: 4px;\n",
       "    }\n",
       "\n",
       "    [theme=dark] .colab-df-convert {\n",
       "      background-color: #3B4455;\n",
       "      fill: #D2E3FC;\n",
       "    }\n",
       "\n",
       "    [theme=dark] .colab-df-convert:hover {\n",
       "      background-color: #434B5C;\n",
       "      box-shadow: 0px 1px 3px 1px rgba(0, 0, 0, 0.15);\n",
       "      filter: drop-shadow(0px 1px 2px rgba(0, 0, 0, 0.3));\n",
       "      fill: #FFFFFF;\n",
       "    }\n",
       "  </style>\n",
       "\n",
       "    <script>\n",
       "      const buttonEl =\n",
       "        document.querySelector('#df-4b4f596d-6970-48a7-9b05-7a845ec3947a button.colab-df-convert');\n",
       "      buttonEl.style.display =\n",
       "        google.colab.kernel.accessAllowed ? 'block' : 'none';\n",
       "\n",
       "      async function convertToInteractive(key) {\n",
       "        const element = document.querySelector('#df-4b4f596d-6970-48a7-9b05-7a845ec3947a');\n",
       "        const dataTable =\n",
       "          await google.colab.kernel.invokeFunction('convertToInteractive',\n",
       "                                                    [key], {});\n",
       "        if (!dataTable) return;\n",
       "\n",
       "        const docLinkHtml = 'Like what you see? Visit the ' +\n",
       "          '<a target=\"_blank\" href=https://colab.research.google.com/notebooks/data_table.ipynb>data table notebook</a>'\n",
       "          + ' to learn more about interactive tables.';\n",
       "        element.innerHTML = '';\n",
       "        dataTable['output_type'] = 'display_data';\n",
       "        await google.colab.output.renderOutput(dataTable, element);\n",
       "        const docLink = document.createElement('div');\n",
       "        docLink.innerHTML = docLinkHtml;\n",
       "        element.appendChild(docLink);\n",
       "      }\n",
       "    </script>\n",
       "  </div>\n",
       "\n",
       "\n",
       "    <div id=\"df-b294f403-6ab9-45e6-9072-c9599e032322\">\n",
       "      <button class=\"colab-df-quickchart\" onclick=\"quickchart('df-b294f403-6ab9-45e6-9072-c9599e032322')\"\n",
       "                title=\"Suggest charts\"\n",
       "                style=\"display:none;\">\n",
       "\n",
       "<svg xmlns=\"http://www.w3.org/2000/svg\" height=\"24px\"viewBox=\"0 0 24 24\"\n",
       "     width=\"24px\">\n",
       "    <g>\n",
       "        <path d=\"M19 3H5c-1.1 0-2 .9-2 2v14c0 1.1.9 2 2 2h14c1.1 0 2-.9 2-2V5c0-1.1-.9-2-2-2zM9 17H7v-7h2v7zm4 0h-2V7h2v10zm4 0h-2v-4h2v4z\"/>\n",
       "    </g>\n",
       "</svg>\n",
       "      </button>\n",
       "\n",
       "<style>\n",
       "  .colab-df-quickchart {\n",
       "      --bg-color: #E8F0FE;\n",
       "      --fill-color: #1967D2;\n",
       "      --hover-bg-color: #E2EBFA;\n",
       "      --hover-fill-color: #174EA6;\n",
       "      --disabled-fill-color: #AAA;\n",
       "      --disabled-bg-color: #DDD;\n",
       "  }\n",
       "\n",
       "  [theme=dark] .colab-df-quickchart {\n",
       "      --bg-color: #3B4455;\n",
       "      --fill-color: #D2E3FC;\n",
       "      --hover-bg-color: #434B5C;\n",
       "      --hover-fill-color: #FFFFFF;\n",
       "      --disabled-bg-color: #3B4455;\n",
       "      --disabled-fill-color: #666;\n",
       "  }\n",
       "\n",
       "  .colab-df-quickchart {\n",
       "    background-color: var(--bg-color);\n",
       "    border: none;\n",
       "    border-radius: 50%;\n",
       "    cursor: pointer;\n",
       "    display: none;\n",
       "    fill: var(--fill-color);\n",
       "    height: 32px;\n",
       "    padding: 0;\n",
       "    width: 32px;\n",
       "  }\n",
       "\n",
       "  .colab-df-quickchart:hover {\n",
       "    background-color: var(--hover-bg-color);\n",
       "    box-shadow: 0 1px 2px rgba(60, 64, 67, 0.3), 0 1px 3px 1px rgba(60, 64, 67, 0.15);\n",
       "    fill: var(--button-hover-fill-color);\n",
       "  }\n",
       "\n",
       "  .colab-df-quickchart-complete:disabled,\n",
       "  .colab-df-quickchart-complete:disabled:hover {\n",
       "    background-color: var(--disabled-bg-color);\n",
       "    fill: var(--disabled-fill-color);\n",
       "    box-shadow: none;\n",
       "  }\n",
       "\n",
       "  .colab-df-spinner {\n",
       "    border: 2px solid var(--fill-color);\n",
       "    border-color: transparent;\n",
       "    border-bottom-color: var(--fill-color);\n",
       "    animation:\n",
       "      spin 1s steps(1) infinite;\n",
       "  }\n",
       "\n",
       "  @keyframes spin {\n",
       "    0% {\n",
       "      border-color: transparent;\n",
       "      border-bottom-color: var(--fill-color);\n",
       "      border-left-color: var(--fill-color);\n",
       "    }\n",
       "    20% {\n",
       "      border-color: transparent;\n",
       "      border-left-color: var(--fill-color);\n",
       "      border-top-color: var(--fill-color);\n",
       "    }\n",
       "    30% {\n",
       "      border-color: transparent;\n",
       "      border-left-color: var(--fill-color);\n",
       "      border-top-color: var(--fill-color);\n",
       "      border-right-color: var(--fill-color);\n",
       "    }\n",
       "    40% {\n",
       "      border-color: transparent;\n",
       "      border-right-color: var(--fill-color);\n",
       "      border-top-color: var(--fill-color);\n",
       "    }\n",
       "    60% {\n",
       "      border-color: transparent;\n",
       "      border-right-color: var(--fill-color);\n",
       "    }\n",
       "    80% {\n",
       "      border-color: transparent;\n",
       "      border-right-color: var(--fill-color);\n",
       "      border-bottom-color: var(--fill-color);\n",
       "    }\n",
       "    90% {\n",
       "      border-color: transparent;\n",
       "      border-bottom-color: var(--fill-color);\n",
       "    }\n",
       "  }\n",
       "</style>\n",
       "\n",
       "      <script>\n",
       "        async function quickchart(key) {\n",
       "          const quickchartButtonEl =\n",
       "            document.querySelector('#' + key + ' button');\n",
       "          quickchartButtonEl.disabled = true;  // To prevent multiple clicks.\n",
       "          quickchartButtonEl.classList.add('colab-df-spinner');\n",
       "          try {\n",
       "            const charts = await google.colab.kernel.invokeFunction(\n",
       "                'suggestCharts', [key], {});\n",
       "          } catch (error) {\n",
       "            console.error('Error during call to suggestCharts:', error);\n",
       "          }\n",
       "          quickchartButtonEl.classList.remove('colab-df-spinner');\n",
       "          quickchartButtonEl.classList.add('colab-df-quickchart-complete');\n",
       "        }\n",
       "        (() => {\n",
       "          let quickchartButtonEl =\n",
       "            document.querySelector('#df-b294f403-6ab9-45e6-9072-c9599e032322 button');\n",
       "          quickchartButtonEl.style.display =\n",
       "            google.colab.kernel.accessAllowed ? 'block' : 'none';\n",
       "        })();\n",
       "      </script>\n",
       "    </div>\n",
       "\n",
       "    </div>\n",
       "  </div>\n"
      ],
      "text/plain": [
       "  transaction_id client_id        date     heure  montant devise  \\\n",
       "0        T000001     C8270  01/07/2025  22:38:02  9662.17    USD   \n",
       "1        T000002     C1860  01/07/2025  09:09:18  7622.33    MAD   \n",
       "2        T000003     C6390  01/07/2025  13:33:32  9510.19    MAD   \n",
       "3        T000004     C6191  01/07/2025  22:54:27  7040.28    MAD   \n",
       "4        T000005     C6734  01/07/2025  17:06:28  3015.62    MAD   \n",
       "\n",
       "    type_transaction        lieu               canal moyen_paiement  \\\n",
       "0  paiement en ligne         Fès               carte           Visa   \n",
       "1            retrait      Tanger  application mobile           Visa   \n",
       "2            retrait  Casablanca  application mobile           Visa   \n",
       "3           virement  Casablanca             guichet           Amex   \n",
       "4           virement         Fès             guichet           Amex   \n",
       "\n",
       "  categorie_commerce device_utilise  score_risque_client  is_fraud  \n",
       "0       électronique        Android                    5         0  \n",
       "1             voyage            ATM                    9         0  \n",
       "2             voyage            ATM                    9         0  \n",
       "3              santé        Android                    6         0  \n",
       "4       électronique            iOS                    1         0  "
      ]
     },
     "execution_count": 88,
     "metadata": {},
     "output_type": "execute_result"
    }
   ],
   "source": [
    "df = pd.read_csv('Dataset_Fraude_Bancaire_complete.csv')\n",
    "#Affiche les 5 lignes premiers\n",
    "df.head()"
   ]
  },
  {
   "cell_type": "markdown",
   "metadata": {
    "id": "dyIi6QgTxZpC"
   },
   "source": [
    "#Analyse des données:"
   ]
  },
  {
   "cell_type": "markdown",
   "metadata": {
    "id": "4oVMCVRIykxf"
   },
   "source": [
    "Savoir le nombre des lines et des colonnes"
   ]
  },
  {
   "cell_type": "code",
   "execution_count": 89,
   "metadata": {
    "colab": {
     "base_uri": "https://localhost:8080/"
    },
    "executionInfo": {
     "elapsed": 44,
     "status": "ok",
     "timestamp": 1761476515643,
     "user": {
      "displayName": "AYA AFFAKI",
      "userId": "16041683805763320174"
     },
     "user_tz": -60
    },
    "id": "z1qR1DSrykKo",
    "outputId": "a464886d-0a1a-4267-f1c7-c123418bdbe1"
   },
   "outputs": [
    {
     "name": "stdout",
     "output_type": "stream",
     "text": [
      "\t==Le size de DataFram est: (1000, 14)\n"
     ]
    }
   ],
   "source": [
    "#Le size de DataFram:\n",
    "print(f\"\\t==Le size de DataFram est: {df.shape}\")"
   ]
  },
  {
   "cell_type": "markdown",
   "metadata": {
    "id": "DUrwV0grysVF"
   },
   "source": [
    "Savoir les informations des colonnes"
   ]
  },
  {
   "cell_type": "code",
   "execution_count": 90,
   "metadata": {
    "colab": {
     "base_uri": "https://localhost:8080/"
    },
    "executionInfo": {
     "elapsed": 64,
     "status": "ok",
     "timestamp": 1761476515718,
     "user": {
      "displayName": "AYA AFFAKI",
      "userId": "16041683805763320174"
     },
     "user_tz": -60
    },
    "id": "cbzbDopKysEQ",
    "outputId": "d378b754-1c5d-41b7-b61d-5a74daab0c9d"
   },
   "outputs": [
    {
     "name": "stdout",
     "output_type": "stream",
     "text": [
      "\t==Les informations de DataFram:\n",
      "<class 'pandas.core.frame.DataFrame'>\n",
      "RangeIndex: 1000 entries, 0 to 999\n",
      "Data columns (total 14 columns):\n",
      " #   Column               Non-Null Count  Dtype  \n",
      "---  ------               --------------  -----  \n",
      " 0   transaction_id       1000 non-null   object \n",
      " 1   client_id            1000 non-null   object \n",
      " 2   date                 1000 non-null   object \n",
      " 3   heure                1000 non-null   object \n",
      " 4   montant              950 non-null    float64\n",
      " 5   devise               950 non-null    object \n",
      " 6   type_transaction     1000 non-null   object \n",
      " 7   lieu                 948 non-null    object \n",
      " 8   canal                1000 non-null   object \n",
      " 9   moyen_paiement       950 non-null    object \n",
      " 10  categorie_commerce   1000 non-null   object \n",
      " 11  device_utilise       1000 non-null   object \n",
      " 12  score_risque_client  1000 non-null   int64  \n",
      " 13  is_fraud             1000 non-null   int64  \n",
      "dtypes: float64(1), int64(2), object(11)\n",
      "memory usage: 109.5+ KB\n"
     ]
    }
   ],
   "source": [
    "#Affiches les informations de df:\n",
    "print(\"\\t==Les informations de DataFram:\")\n",
    "df.info()"
   ]
  },
  {
   "cell_type": "markdown",
   "metadata": {
    "id": "A4oDO70ry11V"
   },
   "source": [
    "Savoir les valeurs Null"
   ]
  },
  {
   "cell_type": "code",
   "execution_count": 91,
   "metadata": {
    "colab": {
     "base_uri": "https://localhost:8080/"
    },
    "executionInfo": {
     "elapsed": 30,
     "status": "ok",
     "timestamp": 1761476515751,
     "user": {
      "displayName": "AYA AFFAKI",
      "userId": "16041683805763320174"
     },
     "user_tz": -60
    },
    "id": "E4pK50GIy5yo",
    "outputId": "d2fca393-ee28-43c9-8395-b58a76e7546a"
   },
   "outputs": [
    {
     "name": "stdout",
     "output_type": "stream",
     "text": [
      "\t==Les colonnes qui ont des valeur null:\n",
      "transaction_id          0\n",
      "client_id               0\n",
      "date                    0\n",
      "heure                   0\n",
      "montant                50\n",
      "devise                 50\n",
      "type_transaction        0\n",
      "lieu                   52\n",
      "canal                   0\n",
      "moyen_paiement         50\n",
      "categorie_commerce      0\n",
      "device_utilise          0\n",
      "score_risque_client     0\n",
      "is_fraud                0\n",
      "dtype: int64\n"
     ]
    }
   ],
   "source": [
    "print('\\t==Les colonnes qui ont des valeur null:')\n",
    "print(df.isnull().sum())"
   ]
  },
  {
   "cell_type": "markdown",
   "metadata": {
    "id": "HFO-67KJy9tW"
   },
   "source": [
    "Savoir les statistique"
   ]
  },
  {
   "cell_type": "code",
   "execution_count": 92,
   "metadata": {
    "colab": {
     "base_uri": "https://localhost:8080/",
     "height": 449
    },
    "executionInfo": {
     "elapsed": 24,
     "status": "ok",
     "timestamp": 1761476515770,
     "user": {
      "displayName": "AYA AFFAKI",
      "userId": "16041683805763320174"
     },
     "user_tz": -60
    },
    "id": "dEg_cXywzBr0",
    "outputId": "e4d7bf14-5665-47b2-de44-9332a50b7200"
   },
   "outputs": [
    {
     "name": "stdout",
     "output_type": "stream",
     "text": [
      "\t==Les statistique de données:\n"
     ]
    },
    {
     "data": {
      "application/vnd.google.colaboratory.intrinsic+json": {
       "summary": "{\n  \"name\": \"df\",\n  \"rows\": 11,\n  \"fields\": [\n    {\n      \"column\": \"transaction_id\",\n      \"properties\": {\n        \"dtype\": \"category\",\n        \"num_unique_values\": 3,\n        \"samples\": [\n          \"1000\",\n          \"T001000\",\n          \"1\"\n        ],\n        \"semantic_type\": \"\",\n        \"description\": \"\"\n      }\n    },\n    {\n      \"column\": \"client_id\",\n      \"properties\": {\n        \"dtype\": \"category\",\n        \"num_unique_values\": 4,\n        \"samples\": [\n          947,\n          \"3\",\n          \"1000\"\n        ],\n        \"semantic_type\": \"\",\n        \"description\": \"\"\n      }\n    },\n    {\n      \"column\": \"date\",\n      \"properties\": {\n        \"dtype\": \"date\",\n        \"min\": \"1970-01-01 00:00:00.000000011\",\n        \"max\": \"2025-01-07 00:00:00\",\n        \"num_unique_values\": 4,\n        \"samples\": [\n          93,\n          \"11\",\n          \"1000\"\n        ],\n        \"semantic_type\": \"\",\n        \"description\": \"\"\n      }\n    },\n    {\n      \"column\": \"heure\",\n      \"properties\": {\n        \"dtype\": \"date\",\n        \"min\": \"1970-01-01 00:00:00.000000002\",\n        \"max\": \"2025-10-26 09:24:01\",\n        \"num_unique_values\": 4,\n        \"samples\": [\n          993,\n          \"2\",\n          \"1000\"\n        ],\n        \"semantic_type\": \"\",\n        \"description\": \"\"\n      }\n    },\n    {\n      \"column\": \"montant\",\n      \"properties\": {\n        \"dtype\": \"number\",\n        \"std\": 3348.5859527463494,\n        \"min\": 50.12,\n        \"max\": 9988.98,\n        \"num_unique_values\": 8,\n        \"samples\": [\n          5019.591294736842,\n          5064.445,\n          950.0\n        ],\n        \"semantic_type\": \"\",\n        \"description\": \"\"\n      }\n    },\n    {\n      \"column\": \"devise\",\n      \"properties\": {\n        \"dtype\": \"category\",\n        \"num_unique_values\": 4,\n        \"samples\": [\n          3,\n          \"592\",\n          \"950\"\n        ],\n        \"semantic_type\": \"\",\n        \"description\": \"\"\n      }\n    },\n    {\n      \"column\": \"type_transaction\",\n      \"properties\": {\n        \"dtype\": \"category\",\n        \"num_unique_values\": 4,\n        \"samples\": [\n          3,\n          \"518\",\n          \"1000\"\n        ],\n        \"semantic_type\": \"\",\n        \"description\": \"\"\n      }\n    },\n    {\n      \"column\": \"lieu\",\n      \"properties\": {\n        \"dtype\": \"category\",\n        \"num_unique_values\": 4,\n        \"samples\": [\n          5,\n          \"261\",\n          \"948\"\n        ],\n        \"semantic_type\": \"\",\n        \"description\": \"\"\n      }\n    },\n    {\n      \"column\": \"canal\",\n      \"properties\": {\n        \"dtype\": \"category\",\n        \"num_unique_values\": 4,\n        \"samples\": [\n          4,\n          \"267\",\n          \"1000\"\n        ],\n        \"semantic_type\": \"\",\n        \"description\": \"\"\n      }\n    },\n    {\n      \"column\": \"moyen_paiement\",\n      \"properties\": {\n        \"dtype\": \"category\",\n        \"num_unique_values\": 4,\n        \"samples\": [\n          4,\n          \"273\",\n          \"950\"\n        ],\n        \"semantic_type\": \"\",\n        \"description\": \"\"\n      }\n    },\n    {\n      \"column\": \"categorie_commerce\",\n      \"properties\": {\n        \"dtype\": \"category\",\n        \"num_unique_values\": 4,\n        \"samples\": [\n          5,\n          \"215\",\n          \"1000\"\n        ],\n        \"semantic_type\": \"\",\n        \"description\": \"\"\n      }\n    },\n    {\n      \"column\": \"device_utilise\",\n      \"properties\": {\n        \"dtype\": \"category\",\n        \"num_unique_values\": 4,\n        \"samples\": [\n          4,\n          \"270\",\n          \"1000\"\n        ],\n        \"semantic_type\": \"\",\n        \"description\": \"\"\n      }\n    },\n    {\n      \"column\": \"score_risque_client\",\n      \"properties\": {\n        \"dtype\": \"number\",\n        \"std\": 351.7556522934727,\n        \"min\": 1.0,\n        \"max\": 1000.0,\n        \"num_unique_values\": 8,\n        \"samples\": [\n          5.468,\n          5.5,\n          1000.0\n        ],\n        \"semantic_type\": \"\",\n        \"description\": \"\"\n      }\n    },\n    {\n      \"column\": \"is_fraud\",\n      \"properties\": {\n        \"dtype\": \"number\",\n        \"std\": 353.4895099579268,\n        \"min\": 0.0,\n        \"max\": 1000.0,\n        \"num_unique_values\": 5,\n        \"samples\": [\n          0.05,\n          1.0,\n          0.2180540014481438\n        ],\n        \"semantic_type\": \"\",\n        \"description\": \"\"\n      }\n    }\n  ]\n}",
       "type": "dataframe"
      },
      "text/html": [
       "\n",
       "  <div id=\"df-b65f73d6-7270-4135-9678-af11c7f45d7e\" class=\"colab-df-container\">\n",
       "    <div>\n",
       "<style scoped>\n",
       "    .dataframe tbody tr th:only-of-type {\n",
       "        vertical-align: middle;\n",
       "    }\n",
       "\n",
       "    .dataframe tbody tr th {\n",
       "        vertical-align: top;\n",
       "    }\n",
       "\n",
       "    .dataframe thead th {\n",
       "        text-align: right;\n",
       "    }\n",
       "</style>\n",
       "<table border=\"1\" class=\"dataframe\">\n",
       "  <thead>\n",
       "    <tr style=\"text-align: right;\">\n",
       "      <th></th>\n",
       "      <th>transaction_id</th>\n",
       "      <th>client_id</th>\n",
       "      <th>date</th>\n",
       "      <th>heure</th>\n",
       "      <th>montant</th>\n",
       "      <th>devise</th>\n",
       "      <th>type_transaction</th>\n",
       "      <th>lieu</th>\n",
       "      <th>canal</th>\n",
       "      <th>moyen_paiement</th>\n",
       "      <th>categorie_commerce</th>\n",
       "      <th>device_utilise</th>\n",
       "      <th>score_risque_client</th>\n",
       "      <th>is_fraud</th>\n",
       "    </tr>\n",
       "  </thead>\n",
       "  <tbody>\n",
       "    <tr>\n",
       "      <th>count</th>\n",
       "      <td>1000</td>\n",
       "      <td>1000</td>\n",
       "      <td>1000</td>\n",
       "      <td>1000</td>\n",
       "      <td>950.000000</td>\n",
       "      <td>950</td>\n",
       "      <td>1000</td>\n",
       "      <td>948</td>\n",
       "      <td>1000</td>\n",
       "      <td>950</td>\n",
       "      <td>1000</td>\n",
       "      <td>1000</td>\n",
       "      <td>1000.000000</td>\n",
       "      <td>1000.000000</td>\n",
       "    </tr>\n",
       "    <tr>\n",
       "      <th>unique</th>\n",
       "      <td>1000</td>\n",
       "      <td>947</td>\n",
       "      <td>93</td>\n",
       "      <td>993</td>\n",
       "      <td>NaN</td>\n",
       "      <td>3</td>\n",
       "      <td>3</td>\n",
       "      <td>5</td>\n",
       "      <td>4</td>\n",
       "      <td>4</td>\n",
       "      <td>5</td>\n",
       "      <td>4</td>\n",
       "      <td>NaN</td>\n",
       "      <td>NaN</td>\n",
       "    </tr>\n",
       "    <tr>\n",
       "      <th>top</th>\n",
       "      <td>T001000</td>\n",
       "      <td>C7949</td>\n",
       "      <td>01/07/2025</td>\n",
       "      <td>09:24:01</td>\n",
       "      <td>NaN</td>\n",
       "      <td>MAD</td>\n",
       "      <td>paiement en ligne</td>\n",
       "      <td>Casablanca</td>\n",
       "      <td>en ligne</td>\n",
       "      <td>Visa</td>\n",
       "      <td>voyage</td>\n",
       "      <td>ATM</td>\n",
       "      <td>NaN</td>\n",
       "      <td>NaN</td>\n",
       "    </tr>\n",
       "    <tr>\n",
       "      <th>freq</th>\n",
       "      <td>1</td>\n",
       "      <td>3</td>\n",
       "      <td>11</td>\n",
       "      <td>2</td>\n",
       "      <td>NaN</td>\n",
       "      <td>592</td>\n",
       "      <td>518</td>\n",
       "      <td>261</td>\n",
       "      <td>267</td>\n",
       "      <td>273</td>\n",
       "      <td>215</td>\n",
       "      <td>270</td>\n",
       "      <td>NaN</td>\n",
       "      <td>NaN</td>\n",
       "    </tr>\n",
       "    <tr>\n",
       "      <th>mean</th>\n",
       "      <td>NaN</td>\n",
       "      <td>NaN</td>\n",
       "      <td>NaN</td>\n",
       "      <td>NaN</td>\n",
       "      <td>5019.591295</td>\n",
       "      <td>NaN</td>\n",
       "      <td>NaN</td>\n",
       "      <td>NaN</td>\n",
       "      <td>NaN</td>\n",
       "      <td>NaN</td>\n",
       "      <td>NaN</td>\n",
       "      <td>NaN</td>\n",
       "      <td>5.468000</td>\n",
       "      <td>0.050000</td>\n",
       "    </tr>\n",
       "    <tr>\n",
       "      <th>std</th>\n",
       "      <td>NaN</td>\n",
       "      <td>NaN</td>\n",
       "      <td>NaN</td>\n",
       "      <td>NaN</td>\n",
       "      <td>2883.159950</td>\n",
       "      <td>NaN</td>\n",
       "      <td>NaN</td>\n",
       "      <td>NaN</td>\n",
       "      <td>NaN</td>\n",
       "      <td>NaN</td>\n",
       "      <td>NaN</td>\n",
       "      <td>NaN</td>\n",
       "      <td>2.862371</td>\n",
       "      <td>0.218054</td>\n",
       "    </tr>\n",
       "    <tr>\n",
       "      <th>min</th>\n",
       "      <td>NaN</td>\n",
       "      <td>NaN</td>\n",
       "      <td>NaN</td>\n",
       "      <td>NaN</td>\n",
       "      <td>50.120000</td>\n",
       "      <td>NaN</td>\n",
       "      <td>NaN</td>\n",
       "      <td>NaN</td>\n",
       "      <td>NaN</td>\n",
       "      <td>NaN</td>\n",
       "      <td>NaN</td>\n",
       "      <td>NaN</td>\n",
       "      <td>1.000000</td>\n",
       "      <td>0.000000</td>\n",
       "    </tr>\n",
       "    <tr>\n",
       "      <th>25%</th>\n",
       "      <td>NaN</td>\n",
       "      <td>NaN</td>\n",
       "      <td>NaN</td>\n",
       "      <td>NaN</td>\n",
       "      <td>2511.585000</td>\n",
       "      <td>NaN</td>\n",
       "      <td>NaN</td>\n",
       "      <td>NaN</td>\n",
       "      <td>NaN</td>\n",
       "      <td>NaN</td>\n",
       "      <td>NaN</td>\n",
       "      <td>NaN</td>\n",
       "      <td>3.000000</td>\n",
       "      <td>0.000000</td>\n",
       "    </tr>\n",
       "    <tr>\n",
       "      <th>50%</th>\n",
       "      <td>NaN</td>\n",
       "      <td>NaN</td>\n",
       "      <td>NaN</td>\n",
       "      <td>NaN</td>\n",
       "      <td>5064.445000</td>\n",
       "      <td>NaN</td>\n",
       "      <td>NaN</td>\n",
       "      <td>NaN</td>\n",
       "      <td>NaN</td>\n",
       "      <td>NaN</td>\n",
       "      <td>NaN</td>\n",
       "      <td>NaN</td>\n",
       "      <td>5.500000</td>\n",
       "      <td>0.000000</td>\n",
       "    </tr>\n",
       "    <tr>\n",
       "      <th>75%</th>\n",
       "      <td>NaN</td>\n",
       "      <td>NaN</td>\n",
       "      <td>NaN</td>\n",
       "      <td>NaN</td>\n",
       "      <td>7548.547500</td>\n",
       "      <td>NaN</td>\n",
       "      <td>NaN</td>\n",
       "      <td>NaN</td>\n",
       "      <td>NaN</td>\n",
       "      <td>NaN</td>\n",
       "      <td>NaN</td>\n",
       "      <td>NaN</td>\n",
       "      <td>8.000000</td>\n",
       "      <td>0.000000</td>\n",
       "    </tr>\n",
       "    <tr>\n",
       "      <th>max</th>\n",
       "      <td>NaN</td>\n",
       "      <td>NaN</td>\n",
       "      <td>NaN</td>\n",
       "      <td>NaN</td>\n",
       "      <td>9988.980000</td>\n",
       "      <td>NaN</td>\n",
       "      <td>NaN</td>\n",
       "      <td>NaN</td>\n",
       "      <td>NaN</td>\n",
       "      <td>NaN</td>\n",
       "      <td>NaN</td>\n",
       "      <td>NaN</td>\n",
       "      <td>10.000000</td>\n",
       "      <td>1.000000</td>\n",
       "    </tr>\n",
       "  </tbody>\n",
       "</table>\n",
       "</div>\n",
       "    <div class=\"colab-df-buttons\">\n",
       "\n",
       "  <div class=\"colab-df-container\">\n",
       "    <button class=\"colab-df-convert\" onclick=\"convertToInteractive('df-b65f73d6-7270-4135-9678-af11c7f45d7e')\"\n",
       "            title=\"Convert this dataframe to an interactive table.\"\n",
       "            style=\"display:none;\">\n",
       "\n",
       "  <svg xmlns=\"http://www.w3.org/2000/svg\" height=\"24px\" viewBox=\"0 -960 960 960\">\n",
       "    <path d=\"M120-120v-720h720v720H120Zm60-500h600v-160H180v160Zm220 220h160v-160H400v160Zm0 220h160v-160H400v160ZM180-400h160v-160H180v160Zm440 0h160v-160H620v160ZM180-180h160v-160H180v160Zm440 0h160v-160H620v160Z\"/>\n",
       "  </svg>\n",
       "    </button>\n",
       "\n",
       "  <style>\n",
       "    .colab-df-container {\n",
       "      display:flex;\n",
       "      gap: 12px;\n",
       "    }\n",
       "\n",
       "    .colab-df-convert {\n",
       "      background-color: #E8F0FE;\n",
       "      border: none;\n",
       "      border-radius: 50%;\n",
       "      cursor: pointer;\n",
       "      display: none;\n",
       "      fill: #1967D2;\n",
       "      height: 32px;\n",
       "      padding: 0 0 0 0;\n",
       "      width: 32px;\n",
       "    }\n",
       "\n",
       "    .colab-df-convert:hover {\n",
       "      background-color: #E2EBFA;\n",
       "      box-shadow: 0px 1px 2px rgba(60, 64, 67, 0.3), 0px 1px 3px 1px rgba(60, 64, 67, 0.15);\n",
       "      fill: #174EA6;\n",
       "    }\n",
       "\n",
       "    .colab-df-buttons div {\n",
       "      margin-bottom: 4px;\n",
       "    }\n",
       "\n",
       "    [theme=dark] .colab-df-convert {\n",
       "      background-color: #3B4455;\n",
       "      fill: #D2E3FC;\n",
       "    }\n",
       "\n",
       "    [theme=dark] .colab-df-convert:hover {\n",
       "      background-color: #434B5C;\n",
       "      box-shadow: 0px 1px 3px 1px rgba(0, 0, 0, 0.15);\n",
       "      filter: drop-shadow(0px 1px 2px rgba(0, 0, 0, 0.3));\n",
       "      fill: #FFFFFF;\n",
       "    }\n",
       "  </style>\n",
       "\n",
       "    <script>\n",
       "      const buttonEl =\n",
       "        document.querySelector('#df-b65f73d6-7270-4135-9678-af11c7f45d7e button.colab-df-convert');\n",
       "      buttonEl.style.display =\n",
       "        google.colab.kernel.accessAllowed ? 'block' : 'none';\n",
       "\n",
       "      async function convertToInteractive(key) {\n",
       "        const element = document.querySelector('#df-b65f73d6-7270-4135-9678-af11c7f45d7e');\n",
       "        const dataTable =\n",
       "          await google.colab.kernel.invokeFunction('convertToInteractive',\n",
       "                                                    [key], {});\n",
       "        if (!dataTable) return;\n",
       "\n",
       "        const docLinkHtml = 'Like what you see? Visit the ' +\n",
       "          '<a target=\"_blank\" href=https://colab.research.google.com/notebooks/data_table.ipynb>data table notebook</a>'\n",
       "          + ' to learn more about interactive tables.';\n",
       "        element.innerHTML = '';\n",
       "        dataTable['output_type'] = 'display_data';\n",
       "        await google.colab.output.renderOutput(dataTable, element);\n",
       "        const docLink = document.createElement('div');\n",
       "        docLink.innerHTML = docLinkHtml;\n",
       "        element.appendChild(docLink);\n",
       "      }\n",
       "    </script>\n",
       "  </div>\n",
       "\n",
       "\n",
       "    <div id=\"df-e82951e1-efb2-48bd-aa78-c6f3169aa238\">\n",
       "      <button class=\"colab-df-quickchart\" onclick=\"quickchart('df-e82951e1-efb2-48bd-aa78-c6f3169aa238')\"\n",
       "                title=\"Suggest charts\"\n",
       "                style=\"display:none;\">\n",
       "\n",
       "<svg xmlns=\"http://www.w3.org/2000/svg\" height=\"24px\"viewBox=\"0 0 24 24\"\n",
       "     width=\"24px\">\n",
       "    <g>\n",
       "        <path d=\"M19 3H5c-1.1 0-2 .9-2 2v14c0 1.1.9 2 2 2h14c1.1 0 2-.9 2-2V5c0-1.1-.9-2-2-2zM9 17H7v-7h2v7zm4 0h-2V7h2v10zm4 0h-2v-4h2v4z\"/>\n",
       "    </g>\n",
       "</svg>\n",
       "      </button>\n",
       "\n",
       "<style>\n",
       "  .colab-df-quickchart {\n",
       "      --bg-color: #E8F0FE;\n",
       "      --fill-color: #1967D2;\n",
       "      --hover-bg-color: #E2EBFA;\n",
       "      --hover-fill-color: #174EA6;\n",
       "      --disabled-fill-color: #AAA;\n",
       "      --disabled-bg-color: #DDD;\n",
       "  }\n",
       "\n",
       "  [theme=dark] .colab-df-quickchart {\n",
       "      --bg-color: #3B4455;\n",
       "      --fill-color: #D2E3FC;\n",
       "      --hover-bg-color: #434B5C;\n",
       "      --hover-fill-color: #FFFFFF;\n",
       "      --disabled-bg-color: #3B4455;\n",
       "      --disabled-fill-color: #666;\n",
       "  }\n",
       "\n",
       "  .colab-df-quickchart {\n",
       "    background-color: var(--bg-color);\n",
       "    border: none;\n",
       "    border-radius: 50%;\n",
       "    cursor: pointer;\n",
       "    display: none;\n",
       "    fill: var(--fill-color);\n",
       "    height: 32px;\n",
       "    padding: 0;\n",
       "    width: 32px;\n",
       "  }\n",
       "\n",
       "  .colab-df-quickchart:hover {\n",
       "    background-color: var(--hover-bg-color);\n",
       "    box-shadow: 0 1px 2px rgba(60, 64, 67, 0.3), 0 1px 3px 1px rgba(60, 64, 67, 0.15);\n",
       "    fill: var(--button-hover-fill-color);\n",
       "  }\n",
       "\n",
       "  .colab-df-quickchart-complete:disabled,\n",
       "  .colab-df-quickchart-complete:disabled:hover {\n",
       "    background-color: var(--disabled-bg-color);\n",
       "    fill: var(--disabled-fill-color);\n",
       "    box-shadow: none;\n",
       "  }\n",
       "\n",
       "  .colab-df-spinner {\n",
       "    border: 2px solid var(--fill-color);\n",
       "    border-color: transparent;\n",
       "    border-bottom-color: var(--fill-color);\n",
       "    animation:\n",
       "      spin 1s steps(1) infinite;\n",
       "  }\n",
       "\n",
       "  @keyframes spin {\n",
       "    0% {\n",
       "      border-color: transparent;\n",
       "      border-bottom-color: var(--fill-color);\n",
       "      border-left-color: var(--fill-color);\n",
       "    }\n",
       "    20% {\n",
       "      border-color: transparent;\n",
       "      border-left-color: var(--fill-color);\n",
       "      border-top-color: var(--fill-color);\n",
       "    }\n",
       "    30% {\n",
       "      border-color: transparent;\n",
       "      border-left-color: var(--fill-color);\n",
       "      border-top-color: var(--fill-color);\n",
       "      border-right-color: var(--fill-color);\n",
       "    }\n",
       "    40% {\n",
       "      border-color: transparent;\n",
       "      border-right-color: var(--fill-color);\n",
       "      border-top-color: var(--fill-color);\n",
       "    }\n",
       "    60% {\n",
       "      border-color: transparent;\n",
       "      border-right-color: var(--fill-color);\n",
       "    }\n",
       "    80% {\n",
       "      border-color: transparent;\n",
       "      border-right-color: var(--fill-color);\n",
       "      border-bottom-color: var(--fill-color);\n",
       "    }\n",
       "    90% {\n",
       "      border-color: transparent;\n",
       "      border-bottom-color: var(--fill-color);\n",
       "    }\n",
       "  }\n",
       "</style>\n",
       "\n",
       "      <script>\n",
       "        async function quickchart(key) {\n",
       "          const quickchartButtonEl =\n",
       "            document.querySelector('#' + key + ' button');\n",
       "          quickchartButtonEl.disabled = true;  // To prevent multiple clicks.\n",
       "          quickchartButtonEl.classList.add('colab-df-spinner');\n",
       "          try {\n",
       "            const charts = await google.colab.kernel.invokeFunction(\n",
       "                'suggestCharts', [key], {});\n",
       "          } catch (error) {\n",
       "            console.error('Error during call to suggestCharts:', error);\n",
       "          }\n",
       "          quickchartButtonEl.classList.remove('colab-df-spinner');\n",
       "          quickchartButtonEl.classList.add('colab-df-quickchart-complete');\n",
       "        }\n",
       "        (() => {\n",
       "          let quickchartButtonEl =\n",
       "            document.querySelector('#df-e82951e1-efb2-48bd-aa78-c6f3169aa238 button');\n",
       "          quickchartButtonEl.style.display =\n",
       "            google.colab.kernel.accessAllowed ? 'block' : 'none';\n",
       "        })();\n",
       "      </script>\n",
       "    </div>\n",
       "\n",
       "    </div>\n",
       "  </div>\n"
      ],
      "text/plain": [
       "       transaction_id client_id        date     heure      montant devise  \\\n",
       "count            1000      1000        1000      1000   950.000000    950   \n",
       "unique           1000       947          93       993          NaN      3   \n",
       "top           T001000     C7949  01/07/2025  09:24:01          NaN    MAD   \n",
       "freq                1         3          11         2          NaN    592   \n",
       "mean              NaN       NaN         NaN       NaN  5019.591295    NaN   \n",
       "std               NaN       NaN         NaN       NaN  2883.159950    NaN   \n",
       "min               NaN       NaN         NaN       NaN    50.120000    NaN   \n",
       "25%               NaN       NaN         NaN       NaN  2511.585000    NaN   \n",
       "50%               NaN       NaN         NaN       NaN  5064.445000    NaN   \n",
       "75%               NaN       NaN         NaN       NaN  7548.547500    NaN   \n",
       "max               NaN       NaN         NaN       NaN  9988.980000    NaN   \n",
       "\n",
       "         type_transaction        lieu     canal moyen_paiement  \\\n",
       "count                1000         948      1000            950   \n",
       "unique                  3           5         4              4   \n",
       "top     paiement en ligne  Casablanca  en ligne           Visa   \n",
       "freq                  518         261       267            273   \n",
       "mean                  NaN         NaN       NaN            NaN   \n",
       "std                   NaN         NaN       NaN            NaN   \n",
       "min                   NaN         NaN       NaN            NaN   \n",
       "25%                   NaN         NaN       NaN            NaN   \n",
       "50%                   NaN         NaN       NaN            NaN   \n",
       "75%                   NaN         NaN       NaN            NaN   \n",
       "max                   NaN         NaN       NaN            NaN   \n",
       "\n",
       "       categorie_commerce device_utilise  score_risque_client     is_fraud  \n",
       "count                1000           1000          1000.000000  1000.000000  \n",
       "unique                  5              4                  NaN          NaN  \n",
       "top                voyage            ATM                  NaN          NaN  \n",
       "freq                  215            270                  NaN          NaN  \n",
       "mean                  NaN            NaN             5.468000     0.050000  \n",
       "std                   NaN            NaN             2.862371     0.218054  \n",
       "min                   NaN            NaN             1.000000     0.000000  \n",
       "25%                   NaN            NaN             3.000000     0.000000  \n",
       "50%                   NaN            NaN             5.500000     0.000000  \n",
       "75%                   NaN            NaN             8.000000     0.000000  \n",
       "max                   NaN            NaN            10.000000     1.000000  "
      ]
     },
     "execution_count": 92,
     "metadata": {},
     "output_type": "execute_result"
    }
   ],
   "source": [
    "print(\"\\t==Les statistique de données:\")\n",
    "df.describe(include='all')"
   ]
  },
  {
   "cell_type": "markdown",
   "metadata": {
    "id": "OM10Cte-zJ9T"
   },
   "source": [
    "Analyser la distrébution de variable cible"
   ]
  },
  {
   "cell_type": "code",
   "execution_count": 93,
   "metadata": {
    "colab": {
     "base_uri": "https://localhost:8080/"
    },
    "executionInfo": {
     "elapsed": 29,
     "status": "ok",
     "timestamp": 1761476515801,
     "user": {
      "displayName": "AYA AFFAKI",
      "userId": "16041683805763320174"
     },
     "user_tz": -60
    },
    "id": "ZtJN9prbzNDh",
    "outputId": "0048a10a-5a0e-44aa-ea0a-bc2e7444e42f"
   },
   "outputs": [
    {
     "name": "stdout",
     "output_type": "stream",
     "text": [
      "=Les observation normale sont:  950 \n",
      "=Porsentage:  95.0 %\n",
      "+Les observation fraud sont:  50 \n",
      "+Porsentage:  5.0 %\n"
     ]
    }
   ],
   "source": [
    "#\n",
    "tagert = \"is_fraud\"\n",
    "maxi = df[df[tagert]==0]\n",
    "mini = df[df[tagert]==1]\n",
    "#Affiche la distrébution de variable cible\n",
    "print(\"=Les observation normale sont: \",maxi.shape[0],\"\\n=Porsentage: \",maxi.shape[0]/1000*100,\"%\" )\n",
    "print(\"+Les observation fraud sont: \",mini.shape[0],\"\\n+Porsentage: \",mini.shape[0]/1000 *100,\"%\")"
   ]
  },
  {
   "cell_type": "code",
   "execution_count": 94,
   "metadata": {
    "colab": {
     "base_uri": "https://localhost:8080/",
     "height": 467
    },
    "executionInfo": {
     "elapsed": 61,
     "status": "ok",
     "timestamp": 1761476515857,
     "user": {
      "displayName": "AYA AFFAKI",
      "userId": "16041683805763320174"
     },
     "user_tz": -60
    },
    "id": "4r21iFeOzgiU",
    "outputId": "7607ab89-54aa-4700-dd05-46e0947d0a10"
   },
   "outputs": [
    {
     "data": {
      "text/plain": [
       "<Axes: xlabel='is_fraud', ylabel='count'>"
      ]
     },
     "execution_count": 94,
     "metadata": {},
     "output_type": "execute_result"
    },
    {
     "data": {
      "image/png": "[encoded data removed]",
      "text/plain": [
       "<Figure size 640x480 with 1 Axes>"
      ]
     },
     "metadata": {},
     "output_type": "display_data"
    }
   ],
   "source": [
    "sns.countplot(x=tagert , data=df, palette=['#5AEB74','#EB4B4B'])"
   ]
  },
  {
   "cell_type": "markdown",
   "metadata": {
    "id": "Vh2NSMs6zjXr"
   },
   "source": [
    "#Divise les colonne  et Créer les fcts pour traiter"
   ]
  },
  {
   "cell_type": "code",
   "execution_count": 95,
   "metadata": {
    "executionInfo": {
     "elapsed": 35,
     "status": "ok",
     "timestamp": 1761476515894,
     "user": {
      "displayName": "AYA AFFAKI",
      "userId": "16041683805763320174"
     },
     "user_tz": -60
    },
    "id": "W4Wk4VtYBoO_"
   },
   "outputs": [],
   "source": [
    "#Les colonnes numériques:\n",
    "col_num = df.select_dtypes(include=['int64','float64']).copy()\n",
    "\n",
    "#Les colonnes catégorique\n",
    "col_cat = df.select_dtypes(include=['object', 'string']).copy()\n",
    "#Separer les colonne temporelle:\n",
    "col_temp = col_cat.select_dtypes(include=['datetime64']).copy()\n",
    "for col in col_cat.columns:\n",
    "        if 'date' in col.lower() or 'heure' in col.lower():\n",
    "            col_temp[col] = col_cat[col]\n",
    "            col_cat.drop(columns=col, inplace=True)"
   ]
  },
  {
   "cell_type": "code",
   "execution_count": 96,
   "metadata": {
    "colab": {
     "base_uri": "https://localhost:8080/"
    },
    "executionInfo": {
     "elapsed": 28,
     "status": "ok",
     "timestamp": 1761476515898,
     "user": {
      "displayName": "AYA AFFAKI",
      "userId": "16041683805763320174"
     },
     "user_tz": -60
    },
    "id": "SV_xrRtaFrbl",
    "outputId": "6a84295a-8734-486a-9d39-ab8ddf9b6f8b"
   },
   "outputs": [
    {
     "name": "stdout",
     "output_type": "stream",
     "text": [
      "<class 'pandas.core.frame.DataFrame'>\n",
      "RangeIndex: 1000 entries, 0 to 999\n",
      "Data columns (total 9 columns):\n",
      " #   Column              Non-Null Count  Dtype \n",
      "---  ------              --------------  ----- \n",
      " 0   transaction_id      1000 non-null   object\n",
      " 1   client_id           1000 non-null   object\n",
      " 2   devise              950 non-null    object\n",
      " 3   type_transaction    1000 non-null   object\n",
      " 4   lieu                948 non-null    object\n",
      " 5   canal               1000 non-null   object\n",
      " 6   moyen_paiement      950 non-null    object\n",
      " 7   categorie_commerce  1000 non-null   object\n",
      " 8   device_utilise      1000 non-null   object\n",
      "dtypes: object(9)\n",
      "memory usage: 70.4+ KB\n"
     ]
    }
   ],
   "source": [
    "col_cat.info()"
   ]
  },
  {
   "cell_type": "markdown",
   "metadata": {
    "id": "V8Y0-vJI_eJH"
   },
   "source": [
    "#Proportion des valeurs catégorielles"
   ]
  },
  {
   "cell_type": "code",
   "execution_count": 97,
   "metadata": {
    "executionInfo": {
     "elapsed": 9,
     "status": "ok",
     "timestamp": 1761476515900,
     "user": {
      "displayName": "AYA AFFAKI",
      "userId": "16041683805763320174"
     },
     "user_tz": -60
    },
    "id": "4-lgJCyUFX09"
   },
   "outputs": [],
   "source": [
    "col_cat.drop(columns=['transaction_id','client_id'],inplace=True)\n"
   ]
  },
  {
   "cell_type": "code",
   "execution_count": 98,
   "metadata": {
    "colab": {
     "base_uri": "https://localhost:8080/"
    },
    "executionInfo": {
     "elapsed": 17,
     "status": "ok",
     "timestamp": 1761476515919,
     "user": {
      "displayName": "AYA AFFAKI",
      "userId": "16041683805763320174"
     },
     "user_tz": -60
    },
    "id": "l1zUXaYp_bnf",
    "outputId": "64451e31-41be-4120-bb7f-9b51603d5c72"
   },
   "outputs": [
    {
     "name": "stdout",
     "output_type": "stream",
     "text": [
      "devise : {'MAD': 0.592, 'EUR': 0.269, 'USD': 0.089, nan: 0.05}\n",
      "type_transaction : {'paiement en ligne': 0.518, 'retrait': 0.28, 'virement': 0.202}\n",
      "lieu : {'Casablanca': 0.261, 'Fès': 0.209, 'Rabat': 0.187, 'Tanger': 0.149, 'Marrakech': 0.142, nan: 0.052}\n",
      "canal : {'en ligne': 0.267, 'guichet': 0.256, 'carte': 0.241, 'application mobile': 0.236}\n",
      "moyen_paiement : {'Visa': 0.273, 'Amex': 0.235, 'Cash': 0.226, 'MasterCard': 0.216, nan: 0.05}\n",
      "categorie_commerce : {'voyage': 0.215, 'santé': 0.207, 'électronique': 0.201, 'mode': 0.191, 'alimentaire': 0.186}\n",
      "device_utilise : {'ATM': 0.27, 'Web': 0.256, 'iOS': 0.247, 'Android': 0.227}\n"
     ]
    }
   ],
   "source": [
    "# Dictionnaire global de NaN\n",
    "nan_dict = {col: df[col].isna().sum() for col in df.columns}\n",
    "# Proportion des valeurs catégorielles\n",
    "unique_cat_ratio = {}\n",
    "for col in col_cat:\n",
    "    unique_cat_ratio[col] = df[col].value_counts(normalize=True, dropna=False).to_dict()\n",
    "\n",
    "for col, ratio_dict in unique_cat_ratio.items():\n",
    "    print(f\"{col} : {ratio_dict}\")"
   ]
  },
  {
   "cell_type": "markdown",
   "metadata": {
    "id": "FHtXLpvCA-PH"
   },
   "source": [
    "Nettoyage"
   ]
  },
  {
   "cell_type": "markdown",
   "metadata": {
    "id": "FBzykPOZBCev"
   },
   "source": [
    "#Supression"
   ]
  },
  {
   "cell_type": "code",
   "execution_count": 99,
   "metadata": {
    "executionInfo": {
     "elapsed": 4,
     "status": "ok",
     "timestamp": 1761476515925,
     "user": {
      "displayName": "AYA AFFAKI",
      "userId": "16041683805763320174"
     },
     "user_tz": -60
    },
    "id": "d4sWb2mtBMH-"
   },
   "outputs": [],
   "source": [
    "threshold_nan = 3       # % pour alerter / supprimer\n",
    "dominant_threshold = 0.1  # pour valeur dominante"
   ]
  },
  {
   "cell_type": "code",
   "execution_count": 100,
   "metadata": {
    "executionInfo": {
     "elapsed": 18,
     "status": "ok",
     "timestamp": 1761476515946,
     "user": {
      "displayName": "AYA AFFAKI",
      "userId": "16041683805763320174"
     },
     "user_tz": -60
    },
    "id": "cAcS7yf5BID0"
   },
   "outputs": [],
   "source": [
    "# --- Fonction de suppression si peu de NaN ---\n",
    "def suppression():\n",
    "    for col in df.columns:\n",
    "        nb_nan = nan_dict[col]\n",
    "        perc_nan = nb_nan / df.shape[0] * 100\n",
    "        if perc_nan < threshold_nan and nb_nan > 0:\n",
    "            print(f\"Suppression NaN <{threshold_nan}% en colonne : {col}\")\n",
    "            df.dropna(subset=[col], inplace=True)"
   ]
  },
  {
   "cell_type": "markdown",
   "metadata": {
    "id": "OLt2vFjKBWUs"
   },
   "source": [
    "#Imputation numérique"
   ]
  },
  {
   "cell_type": "code",
   "execution_count": 101,
   "metadata": {
    "executionInfo": {
     "elapsed": 2,
     "status": "ok",
     "timestamp": 1761476515953,
     "user": {
      "displayName": "AYA AFFAKI",
      "userId": "16041683805763320174"
     },
     "user_tz": -60
    },
    "id": "v7mQvLExRZWB"
   },
   "outputs": [],
   "source": [
    "# --- Fonction d'imputation ---\n",
    "def imputationNum():\n",
    "    # Numérique\n",
    "    for col in col_num.columns:\n",
    "        nb_nan = nan_dict[col]\n",
    "        perc_nan = nb_nan / df.shape[0] * 100\n",
    "        if perc_nan > threshold_nan:\n",
    "            col_data = col_num[col]\n",
    "            stat, p = stats.normaltest(col_data)\n",
    "            mean = col_data.mean()\n",
    "            if p > 0.05:\n",
    "                print(f\"Imputation NaN <{threshold_nan}% en colonne : {col} -> moyenne\")\n",
    "                col_num[col].fillna(mean, inplace=True)\n",
    "            else:\n",
    "                print(f\"Imputation NaN <{threshold_nan}% en colonne : {col} -> median\")\n",
    "                col_num[col].fillna(col_data.median(), inplace=True)"
   ]
  },
  {
   "cell_type": "markdown",
   "metadata": {
    "id": "5mjLHHBiCHsE"
   },
   "source": [
    "#Imputation Catégorique"
   ]
  },
  {
   "cell_type": "code",
   "execution_count": 102,
   "metadata": {
    "executionInfo": {
     "elapsed": 6,
     "status": "ok",
     "timestamp": 1761476516007,
     "user": {
      "displayName": "AYA AFFAKI",
      "userId": "16041683805763320174"
     },
     "user_tz": -60
    },
    "id": "nWpRh4jLCNSK"
   },
   "outputs": [],
   "source": [
    "def imputationCat():\n",
    "    # Catégorique\n",
    "  for col in col_cat.columns:\n",
    "        nb_nan = nan_dict[col]                     # nombre de NaN dans la colonne\n",
    "        perc_nan = nb_nan / df.shape[0] * 100     # % de NaN\n",
    "        if perc_nan > threshold_nan:              # si % de NaN > seuil global\n",
    "            top_value = max(unique_cat_ratio[col], key=unique_cat_ratio[col].get)  # modalité dominante\n",
    "            top_ratio = unique_cat_ratio[col][top_value]   # ratio de cette modalité\n",
    "            if top_ratio > dominant_threshold:\n",
    "                print(f\"Imputation NaN <{threshold_nan}% en colonne : {col} -> valeur freq\")\n",
    "                # La modalité dominante est assez fréquente → on remplace NaN par cette valeur\n",
    "                col_cat[col].fillna(df[col].mode()[0], inplace=True)\n",
    "            else:\n",
    "                print(f\"Imputation NaN <{threshold_nan}% en colonne : {col} -> valeur 'Unknown'\")\n",
    "                # La modalité dominante n'est pas suffisamment forte → remplacer par 'Unknown'\n",
    "                col_cat[col].fillna('Unknown', inplace=True)\n"
   ]
  },
  {
   "cell_type": "markdown",
   "metadata": {
    "id": "RUMUgaG0Cuco"
   },
   "source": [
    "#Imputation temp"
   ]
  },
  {
   "cell_type": "code",
   "execution_count": 103,
   "metadata": {
    "executionInfo": {
     "elapsed": 5,
     "status": "ok",
     "timestamp": 1761476516016,
     "user": {
      "displayName": "AYA AFFAKI",
      "userId": "16041683805763320174"
     },
     "user_tz": -60
    },
    "id": "-h-e_BaZCySn"
   },
   "outputs": [],
   "source": [
    "def imputationTemp(df):\n",
    "  nan_dict = {col: df[col].isna().sum() for col in df.columns}\n",
    "  for col in col_temp:\n",
    "      nb_nan = nan_dict[col]\n",
    "      perc_nan = nb_nan / df.shape[0] * 100\n",
    "      if perc_nan > threshold_nan:\n",
    "        print(f\"Imputation NaN <{threshold_nan}% en colonne : {col} -> interpolate\")\n",
    "        df[col] = df[col].interpolate(method='linear')"
   ]
  },
  {
   "cell_type": "markdown",
   "metadata": {
    "id": "TeBg3-hTzosa"
   },
   "source": [
    "#colonne numérique"
   ]
  },
  {
   "cell_type": "code",
   "execution_count": 104,
   "metadata": {
    "colab": {
     "base_uri": "https://localhost:8080/",
     "height": 300
    },
    "executionInfo": {
     "elapsed": 29,
     "status": "ok",
     "timestamp": 1761476516051,
     "user": {
      "displayName": "AYA AFFAKI",
      "userId": "16041683805763320174"
     },
     "user_tz": -60
    },
    "id": "8-DlBnUvzrka",
    "outputId": "afad8bba-0ec7-4e62-f266-62105802c447"
   },
   "outputs": [
    {
     "data": {
      "application/vnd.google.colaboratory.intrinsic+json": {
       "summary": "{\n  \"name\": \"col_num\",\n  \"rows\": 8,\n  \"fields\": [\n    {\n      \"column\": \"montant\",\n      \"properties\": {\n        \"dtype\": \"number\",\n        \"std\": 3348.5859527463494,\n        \"min\": 50.12,\n        \"max\": 9988.98,\n        \"num_unique_values\": 8,\n        \"samples\": [\n          5019.591294736842,\n          5064.445,\n          950.0\n        ],\n        \"semantic_type\": \"\",\n        \"description\": \"\"\n      }\n    },\n    {\n      \"column\": \"score_risque_client\",\n      \"properties\": {\n        \"dtype\": \"number\",\n        \"std\": 351.7556522934727,\n        \"min\": 1.0,\n        \"max\": 1000.0,\n        \"num_unique_values\": 8,\n        \"samples\": [\n          5.468,\n          5.5,\n          1000.0\n        ],\n        \"semantic_type\": \"\",\n        \"description\": \"\"\n      }\n    }\n  ]\n}",
       "type": "dataframe"
      },
      "text/html": [
       "\n",
       "  <div id=\"df-16c980f4-7313-4223-886a-7f0cfca46c4a\" class=\"colab-df-container\">\n",
       "    <div>\n",
       "<style scoped>\n",
       "    .dataframe tbody tr th:only-of-type {\n",
       "        vertical-align: middle;\n",
       "    }\n",
       "\n",
       "    .dataframe tbody tr th {\n",
       "        vertical-align: top;\n",
       "    }\n",
       "\n",
       "    .dataframe thead th {\n",
       "        text-align: right;\n",
       "    }\n",
       "</style>\n",
       "<table border=\"1\" class=\"dataframe\">\n",
       "  <thead>\n",
       "    <tr style=\"text-align: right;\">\n",
       "      <th></th>\n",
       "      <th>montant</th>\n",
       "      <th>score_risque_client</th>\n",
       "    </tr>\n",
       "  </thead>\n",
       "  <tbody>\n",
       "    <tr>\n",
       "      <th>count</th>\n",
       "      <td>950.000000</td>\n",
       "      <td>1000.000000</td>\n",
       "    </tr>\n",
       "    <tr>\n",
       "      <th>mean</th>\n",
       "      <td>5019.591295</td>\n",
       "      <td>5.468000</td>\n",
       "    </tr>\n",
       "    <tr>\n",
       "      <th>std</th>\n",
       "      <td>2883.159950</td>\n",
       "      <td>2.862371</td>\n",
       "    </tr>\n",
       "    <tr>\n",
       "      <th>min</th>\n",
       "      <td>50.120000</td>\n",
       "      <td>1.000000</td>\n",
       "    </tr>\n",
       "    <tr>\n",
       "      <th>25%</th>\n",
       "      <td>2511.585000</td>\n",
       "      <td>3.000000</td>\n",
       "    </tr>\n",
       "    <tr>\n",
       "      <th>50%</th>\n",
       "      <td>5064.445000</td>\n",
       "      <td>5.500000</td>\n",
       "    </tr>\n",
       "    <tr>\n",
       "      <th>75%</th>\n",
       "      <td>7548.547500</td>\n",
       "      <td>8.000000</td>\n",
       "    </tr>\n",
       "    <tr>\n",
       "      <th>max</th>\n",
       "      <td>9988.980000</td>\n",
       "      <td>10.000000</td>\n",
       "    </tr>\n",
       "  </tbody>\n",
       "</table>\n",
       "</div>\n",
       "    <div class=\"colab-df-buttons\">\n",
       "\n",
       "  <div class=\"colab-df-container\">\n",
       "    <button class=\"colab-df-convert\" onclick=\"convertToInteractive('df-16c980f4-7313-4223-886a-7f0cfca46c4a')\"\n",
       "            title=\"Convert this dataframe to an interactive table.\"\n",
       "            style=\"display:none;\">\n",
       "\n",
       "  <svg xmlns=\"http://www.w3.org/2000/svg\" height=\"24px\" viewBox=\"0 -960 960 960\">\n",
       "    <path d=\"M120-120v-720h720v720H120Zm60-500h600v-160H180v160Zm220 220h160v-160H400v160Zm0 220h160v-160H400v160ZM180-400h160v-160H180v160Zm440 0h160v-160H620v160ZM180-180h160v-160H180v160Zm440 0h160v-160H620v160Z\"/>\n",
       "  </svg>\n",
       "    </button>\n",
       "\n",
       "  <style>\n",
       "    .colab-df-container {\n",
       "      display:flex;\n",
       "      gap: 12px;\n",
       "    }\n",
       "\n",
       "    .colab-df-convert {\n",
       "      background-color: #E8F0FE;\n",
       "      border: none;\n",
       "      border-radius: 50%;\n",
       "      cursor: pointer;\n",
       "      display: none;\n",
       "      fill: #1967D2;\n",
       "      height: 32px;\n",
       "      padding: 0 0 0 0;\n",
       "      width: 32px;\n",
       "    }\n",
       "\n",
       "    .colab-df-convert:hover {\n",
       "      background-color: #E2EBFA;\n",
       "      box-shadow: 0px 1px 2px rgba(60, 64, 67, 0.3), 0px 1px 3px 1px rgba(60, 64, 67, 0.15);\n",
       "      fill: #174EA6;\n",
       "    }\n",
       "\n",
       "    .colab-df-buttons div {\n",
       "      margin-bottom: 4px;\n",
       "    }\n",
       "\n",
       "    [theme=dark] .colab-df-convert {\n",
       "      background-color: #3B4455;\n",
       "      fill: #D2E3FC;\n",
       "    }\n",
       "\n",
       "    [theme=dark] .colab-df-convert:hover {\n",
       "      background-color: #434B5C;\n",
       "      box-shadow: 0px 1px 3px 1px rgba(0, 0, 0, 0.15);\n",
       "      filter: drop-shadow(0px 1px 2px rgba(0, 0, 0, 0.3));\n",
       "      fill: #FFFFFF;\n",
       "    }\n",
       "  </style>\n",
       "\n",
       "    <script>\n",
       "      const buttonEl =\n",
       "        document.querySelector('#df-16c980f4-7313-4223-886a-7f0cfca46c4a button.colab-df-convert');\n",
       "      buttonEl.style.display =\n",
       "        google.colab.kernel.accessAllowed ? 'block' : 'none';\n",
       "\n",
       "      async function convertToInteractive(key) {\n",
       "        const element = document.querySelector('#df-16c980f4-7313-4223-886a-7f0cfca46c4a');\n",
       "        const dataTable =\n",
       "          await google.colab.kernel.invokeFunction('convertToInteractive',\n",
       "                                                    [key], {});\n",
       "        if (!dataTable) return;\n",
       "\n",
       "        const docLinkHtml = 'Like what you see? Visit the ' +\n",
       "          '<a target=\"_blank\" href=https://colab.research.google.com/notebooks/data_table.ipynb>data table notebook</a>'\n",
       "          + ' to learn more about interactive tables.';\n",
       "        element.innerHTML = '';\n",
       "        dataTable['output_type'] = 'display_data';\n",
       "        await google.colab.output.renderOutput(dataTable, element);\n",
       "        const docLink = document.createElement('div');\n",
       "        docLink.innerHTML = docLinkHtml;\n",
       "        element.appendChild(docLink);\n",
       "      }\n",
       "    </script>\n",
       "  </div>\n",
       "\n",
       "\n",
       "    <div id=\"df-fbf44d14-3e5a-432f-b3e9-618edba0d83e\">\n",
       "      <button class=\"colab-df-quickchart\" onclick=\"quickchart('df-fbf44d14-3e5a-432f-b3e9-618edba0d83e')\"\n",
       "                title=\"Suggest charts\"\n",
       "                style=\"display:none;\">\n",
       "\n",
       "<svg xmlns=\"http://www.w3.org/2000/svg\" height=\"24px\"viewBox=\"0 0 24 24\"\n",
       "     width=\"24px\">\n",
       "    <g>\n",
       "        <path d=\"M19 3H5c-1.1 0-2 .9-2 2v14c0 1.1.9 2 2 2h14c1.1 0 2-.9 2-2V5c0-1.1-.9-2-2-2zM9 17H7v-7h2v7zm4 0h-2V7h2v10zm4 0h-2v-4h2v4z\"/>\n",
       "    </g>\n",
       "</svg>\n",
       "      </button>\n",
       "\n",
       "<style>\n",
       "  .colab-df-quickchart {\n",
       "      --bg-color: #E8F0FE;\n",
       "      --fill-color: #1967D2;\n",
       "      --hover-bg-color: #E2EBFA;\n",
       "      --hover-fill-color: #174EA6;\n",
       "      --disabled-fill-color: #AAA;\n",
       "      --disabled-bg-color: #DDD;\n",
       "  }\n",
       "\n",
       "  [theme=dark] .colab-df-quickchart {\n",
       "      --bg-color: #3B4455;\n",
       "      --fill-color: #D2E3FC;\n",
       "      --hover-bg-color: #434B5C;\n",
       "      --hover-fill-color: #FFFFFF;\n",
       "      --disabled-bg-color: #3B4455;\n",
       "      --disabled-fill-color: #666;\n",
       "  }\n",
       "\n",
       "  .colab-df-quickchart {\n",
       "    background-color: var(--bg-color);\n",
       "    border: none;\n",
       "    border-radius: 50%;\n",
       "    cursor: pointer;\n",
       "    display: none;\n",
       "    fill: var(--fill-color);\n",
       "    height: 32px;\n",
       "    padding: 0;\n",
       "    width: 32px;\n",
       "  }\n",
       "\n",
       "  .colab-df-quickchart:hover {\n",
       "    background-color: var(--hover-bg-color);\n",
       "    box-shadow: 0 1px 2px rgba(60, 64, 67, 0.3), 0 1px 3px 1px rgba(60, 64, 67, 0.15);\n",
       "    fill: var(--button-hover-fill-color);\n",
       "  }\n",
       "\n",
       "  .colab-df-quickchart-complete:disabled,\n",
       "  .colab-df-quickchart-complete:disabled:hover {\n",
       "    background-color: var(--disabled-bg-color);\n",
       "    fill: var(--disabled-fill-color);\n",
       "    box-shadow: none;\n",
       "  }\n",
       "\n",
       "  .colab-df-spinner {\n",
       "    border: 2px solid var(--fill-color);\n",
       "    border-color: transparent;\n",
       "    border-bottom-color: var(--fill-color);\n",
       "    animation:\n",
       "      spin 1s steps(1) infinite;\n",
       "  }\n",
       "\n",
       "  @keyframes spin {\n",
       "    0% {\n",
       "      border-color: transparent;\n",
       "      border-bottom-color: var(--fill-color);\n",
       "      border-left-color: var(--fill-color);\n",
       "    }\n",
       "    20% {\n",
       "      border-color: transparent;\n",
       "      border-left-color: var(--fill-color);\n",
       "      border-top-color: var(--fill-color);\n",
       "    }\n",
       "    30% {\n",
       "      border-color: transparent;\n",
       "      border-left-color: var(--fill-color);\n",
       "      border-top-color: var(--fill-color);\n",
       "      border-right-color: var(--fill-color);\n",
       "    }\n",
       "    40% {\n",
       "      border-color: transparent;\n",
       "      border-right-color: var(--fill-color);\n",
       "      border-top-color: var(--fill-color);\n",
       "    }\n",
       "    60% {\n",
       "      border-color: transparent;\n",
       "      border-right-color: var(--fill-color);\n",
       "    }\n",
       "    80% {\n",
       "      border-color: transparent;\n",
       "      border-right-color: var(--fill-color);\n",
       "      border-bottom-color: var(--fill-color);\n",
       "    }\n",
       "    90% {\n",
       "      border-color: transparent;\n",
       "      border-bottom-color: var(--fill-color);\n",
       "    }\n",
       "  }\n",
       "</style>\n",
       "\n",
       "      <script>\n",
       "        async function quickchart(key) {\n",
       "          const quickchartButtonEl =\n",
       "            document.querySelector('#' + key + ' button');\n",
       "          quickchartButtonEl.disabled = true;  // To prevent multiple clicks.\n",
       "          quickchartButtonEl.classList.add('colab-df-spinner');\n",
       "          try {\n",
       "            const charts = await google.colab.kernel.invokeFunction(\n",
       "                'suggestCharts', [key], {});\n",
       "          } catch (error) {\n",
       "            console.error('Error during call to suggestCharts:', error);\n",
       "          }\n",
       "          quickchartButtonEl.classList.remove('colab-df-spinner');\n",
       "          quickchartButtonEl.classList.add('colab-df-quickchart-complete');\n",
       "        }\n",
       "        (() => {\n",
       "          let quickchartButtonEl =\n",
       "            document.querySelector('#df-fbf44d14-3e5a-432f-b3e9-618edba0d83e button');\n",
       "          quickchartButtonEl.style.display =\n",
       "            google.colab.kernel.accessAllowed ? 'block' : 'none';\n",
       "        })();\n",
       "      </script>\n",
       "    </div>\n",
       "\n",
       "    </div>\n",
       "  </div>\n"
      ],
      "text/plain": [
       "           montant  score_risque_client\n",
       "count   950.000000          1000.000000\n",
       "mean   5019.591295             5.468000\n",
       "std    2883.159950             2.862371\n",
       "min      50.120000             1.000000\n",
       "25%    2511.585000             3.000000\n",
       "50%    5064.445000             5.500000\n",
       "75%    7548.547500             8.000000\n",
       "max    9988.980000            10.000000"
      ]
     },
     "execution_count": 104,
     "metadata": {},
     "output_type": "execute_result"
    }
   ],
   "source": [
    "\n",
    "#supperimer le variable cible :\n",
    "if tagert in col_num.columns:\n",
    "    col_num.drop(tagert,axis=1,inplace=True)\n",
    "#voir les statistique :\n",
    "col_num.describe()\n"
   ]
  },
  {
   "cell_type": "markdown",
   "metadata": {
    "id": "-MDQ72vx1Lch"
   },
   "source": [
    "Créer les fct qui choix si on faire un stadarisation ou un normalisation\n",
    "\n",
    "| Situation                                                  | Méthode recommandée                           | Type de données            |\n",
    "| ---------------------------------------------------------- | --------------------------------------------- | -------------------------- |\n",
    "| Distribution normale ou proche normale                     | **Standardisation** (moyenne 0, écart-type 1) | **float ou int**           |\n",
    "| Plage spécifique nécessaire ou valeurs non normales        | **Normalisation** (Min-Max, [0,1])            | **float ou int**           |\n",
    "| Présence d’outliers importants                             | **Standardisation préférable**                | **float ou int**           |\n",
    "| Pour certains modèles comme arbres, Random Forest, XGBoost | **Souvent pas besoin de scaler**              | Peut être **float ou int** |"
   ]
  },
  {
   "cell_type": "code",
   "execution_count": 105,
   "metadata": {
    "executionInfo": {
     "elapsed": 3,
     "status": "ok",
     "timestamp": 1761476516059,
     "user": {
      "displayName": "AYA AFFAKI",
      "userId": "16041683805763320174"
     },
     "user_tz": -60
    },
    "id": "rlxZrF8h1Kt4"
   },
   "outputs": [],
   "source": [
    "def choixStdNor():\n",
    "  results = {}\n",
    "   # Test de normalité pour chaque colonne\n",
    "  for col in col_num.columns:\n",
    "        if col_num[col].dtype == 'int64':  # éviter les colonnes discrètes\n",
    "            continue\n",
    "        stat, p = stats.normaltest(col_num[col])\n",
    "        results[col] = {'statistic': stat, 'p_value': p, 'is_normal': p > 0.05}\n",
    "\n",
    "    # Application du bon type de normalisation\n",
    "  for col, result in results.items():\n",
    "     if col_num[col].dtype == 'int64':  # éviter les colonnes discrètes\n",
    "            continue\n",
    "     else:\n",
    "        if result['is_normal']:\n",
    "            print(f'✅ Colonne \"{col}\" suit une loi normale → Standardisation')\n",
    "            scaler = StandardScaler()\n",
    "            col_num[col] = scaler.fit_transform(col_num[[col]])\n",
    "        else:\n",
    "            print(f'⚠️ Colonne \"{col}\" ne suit pas une loi normale → Normalisation MinMax')\n",
    "            scaler = MinMaxScaler()\n",
    "            col_num[col] = scaler.fit_transform(col_num[[col]])"
   ]
  },
  {
   "cell_type": "markdown",
   "metadata": {
    "id": "lMd_v6Nb_LHA"
   },
   "source": [
    "#transforme les colonnes temporelles"
   ]
  },
  {
   "cell_type": "code",
   "execution_count": 106,
   "metadata": {
    "executionInfo": {
     "elapsed": 7,
     "status": "ok",
     "timestamp": 1761476516075,
     "user": {
      "displayName": "AYA AFFAKI",
      "userId": "16041683805763320174"
     },
     "user_tz": -60
    },
    "id": "5oWbxDjo6K8n"
   },
   "outputs": [],
   "source": [
    "def transformer_temps():\n",
    "    \"\"\"\n",
    "    Transforme les colonnes temporelles (date/heure) en caractéristiques dérivées.\n",
    "    \"\"\"\n",
    "    for col in col_temp.columns:\n",
    "        if col not in df.columns:\n",
    "            print(f\"⚠️ La colonne '{col}' n'existe pas dans le DataFrame.\")\n",
    "            continue\n",
    "\n",
    "        col_temp[col] = pd.to_datetime(col_temp[col], errors='coerce')\n",
    "\n",
    "        # --- Colonne contenant \"date\" ---\n",
    "        if 'date' in col.lower():\n",
    "            col_temp[f'{col}_jour'] = col_temp[col].dt.day\n",
    "            col_temp[f'{col}_mois'] = col_temp[col].dt.month\n",
    "            col_temp[f'{col}_annee'] = col_temp[col].dt.year\n",
    "            col_temp[f'{col}_jour_semaine'] = col_temp[col].dt.dayofweek\n",
    "            col_temp[f'{col}_weekend'] = (col_temp[col].dt.dayofweek >= 5).astype(int)\n",
    "            col_temp.drop(columns=[col], inplace=True)\n",
    "            print('Bien passe')\n",
    "\n",
    "        # --- Colonne contenant \"heure\" ---\n",
    "        elif 'heure' in col.lower():\n",
    "            col_temp[f'{col}_heure'] = col_temp[col].dt.hour\n",
    "            col_temp[f'{col}_minute'] = col_temp[col].dt.minute\n",
    "            col_temp[f'{col}_seconde'] = col_temp[col].dt.second\n",
    "            print('Bien passe')\n",
    "\n",
    "            # Déterminer la période de la journée\n",
    "            def get_period(hour):\n",
    "                if 6 <= hour < 12:\n",
    "                    return 1  # matin\n",
    "                elif 12 <= hour < 18:\n",
    "                    return 2  # après-midi\n",
    "                elif 18 <= hour < 23:\n",
    "                    return 3  # soir\n",
    "                else:\n",
    "                    return 4  # nuit\n",
    "\n",
    "            col_temp[f'{col}_periode'] = col_temp[f'{col}_heure'].apply(get_period)\n",
    "            col_temp.drop(columns=[col], inplace=True)\n",
    "\n",
    "        else:\n",
    "            print(f\"⚠️ La colonne '{col}' n'est pas reconnue comme date/heure.\")\n",
    "\n",
    "\n"
   ]
  },
  {
   "cell_type": "markdown",
   "metadata": {
    "id": "y2QSmVJT-9p3"
   },
   "source": [
    "#Les colonnes nominalle"
   ]
  },
  {
   "cell_type": "code",
   "execution_count": 107,
   "metadata": {
    "executionInfo": {
     "elapsed": 4,
     "status": "ok",
     "timestamp": 1761476516082,
     "user": {
      "displayName": "AYA AFFAKI",
      "userId": "16041683805763320174"
     },
     "user_tz": -60
    },
    "id": "5oZhGgGD-1-W"
   },
   "outputs": [],
   "source": [
    "def choixEncodage():\n",
    "    \"\"\"\n",
    "    Encode automatiquement les colonnes catégorielles :\n",
    "    - Binaire si n_unique == 2\n",
    "    - One-Hot si n_unique <= OneHot_threshold\n",
    "    - Frequency si n_unique > OneHot_threshold\n",
    "\n",
    "    Args:\n",
    "        col_cat : DataFrame des colonnes catégorielles\n",
    "        unique_cat_ratio : dict[col] = {valeur: ratio}\n",
    "        OneHot_threshold : seuil max de modalités pour One-Hot\n",
    "    Returns:\n",
    "        df_binaire_list, df_onehot_list, df_freq_list\n",
    "    \"\"\"\n",
    "    OneHot_threshold=10\n",
    "\n",
    "    df_binaire_list = pd.DataFrame()\n",
    "    df_onehot_list = pd.DataFrame()\n",
    "    df_freq_list = pd.DataFrame()\n",
    "\n",
    "    for col in col_cat.columns:\n",
    "        n_unique = len(unique_cat_ratio[col])\n",
    "\n",
    "        if n_unique == 2:\n",
    "            # Binaire Encoding\n",
    "            print(f'{col} -> Binaire')\n",
    "            vals = list(unique_cat_ratio[col].keys())\n",
    "            df_binaire_list[col] = col_cat[col].map({vals[0]: 0, vals[1]: 1})\n",
    "\n",
    "        elif n_unique <= OneHot_threshold:\n",
    "            # One-Hot Encoding\n",
    "            print(f'{col} -> One-Hot')\n",
    "            dummies = pd.get_dummies(col_cat[col], prefix=col, drop_first=False)\n",
    "            df_onehot_list = pd.concat([df_onehot_list, dummies], axis=1)\n",
    "\n",
    "        else:\n",
    "            # Frequency Encoding\n",
    "            print(f'{col} -> Frequency')\n",
    "            freq = col_cat[col].value_counts() / len(col_cat)\n",
    "            df_freq_list[col] = col_cat[col].map(freq)\n",
    "\n",
    "    return df_binaire_list, df_onehot_list, df_freq_list\n"
   ]
  },
  {
   "cell_type": "markdown",
   "metadata": {
    "id": "7Gzzg_FyDBb7"
   },
   "source": [
    "#Preproccesing de DATA"
   ]
  },
  {
   "cell_type": "markdown",
   "metadata": {
    "id": "VZTKasynD9PN"
   },
   "source": [
    "Nettoyage:"
   ]
  },
  {
   "cell_type": "code",
   "execution_count": 108,
   "metadata": {
    "colab": {
     "base_uri": "https://localhost:8080/"
    },
    "executionInfo": {
     "elapsed": 42,
     "status": "ok",
     "timestamp": 1761476516127,
     "user": {
      "displayName": "AYA AFFAKI",
      "userId": "16041683805763320174"
     },
     "user_tz": -60
    },
    "id": "Sa_xwKvaDF7q",
    "outputId": "a721d229-ebf1-4f64-f57b-f7baf3fe577f"
   },
   "outputs": [
    {
     "name": "stdout",
     "output_type": "stream",
     "text": [
      "Imputation NaN <3% en colonne : montant -> median\n",
      "Imputation NaN <3% en colonne : devise -> valeur freq\n",
      "Imputation NaN <3% en colonne : lieu -> valeur freq\n",
      "Imputation NaN <3% en colonne : moyen_paiement -> valeur freq\n"
     ]
    }
   ],
   "source": [
    "#Sppression de 30% de Données null\n",
    "suppression()\n",
    "#Imputation de données numérique\n",
    "imputationNum()\n",
    "#Imputation de données catégorique\n",
    "imputationCat()\n",
    "#Imputation de données temporelle:\n",
    "imputationTemp(col_temp)"
   ]
  },
  {
   "cell_type": "markdown",
   "metadata": {
    "id": "rkq-V6YeITeM"
   },
   "source": [
    "transforme les colonne Temporelle"
   ]
  },
  {
   "cell_type": "code",
   "execution_count": 109,
   "metadata": {
    "colab": {
     "base_uri": "https://localhost:8080/"
    },
    "executionInfo": {
     "elapsed": 31,
     "status": "ok",
     "timestamp": 1761476516161,
     "user": {
      "displayName": "AYA AFFAKI",
      "userId": "16041683805763320174"
     },
     "user_tz": -60
    },
    "id": "01mRR6bcEILT",
    "outputId": "52a2f297-4d46-440a-a4ce-7d54a1cef298"
   },
   "outputs": [
    {
     "name": "stdout",
     "output_type": "stream",
     "text": [
      "Bien passe\n",
      "Bien passe\n",
      "Imputation NaN <3% en colonne : date_jour -> interpolate\n",
      "Imputation NaN <3% en colonne : date_mois -> interpolate\n",
      "Imputation NaN <3% en colonne : date_annee -> interpolate\n",
      "Imputation NaN <3% en colonne : date_jour_semaine -> interpolate\n"
     ]
    }
   ],
   "source": [
    "transformer_temps()\n",
    "#Imputation de données temporelle:\n",
    "imputationTemp(col_temp)"
   ]
  },
  {
   "cell_type": "markdown",
   "metadata": {
    "id": "cv0Bf4eHIoAP"
   },
   "source": [
    "Standarisation et Normalisation"
   ]
  },
  {
   "cell_type": "code",
   "execution_count": 110,
   "metadata": {
    "colab": {
     "base_uri": "https://localhost:8080/"
    },
    "executionInfo": {
     "elapsed": 83,
     "status": "ok",
     "timestamp": 1761476516232,
     "user": {
      "displayName": "AYA AFFAKI",
      "userId": "16041683805763320174"
     },
     "user_tz": -60
    },
    "id": "mlL2EfaNIrQl",
    "outputId": "d8c55f09-da7d-48ca-8311-fa8f573adb6e"
   },
   "outputs": [
    {
     "name": "stdout",
     "output_type": "stream",
     "text": [
      "⚠️ Colonne \"montant\" ne suit pas une loi normale → Normalisation MinMax\n"
     ]
    }
   ],
   "source": [
    "choixStdNor()"
   ]
  },
  {
   "cell_type": "code",
   "execution_count": 111,
   "metadata": {
    "colab": {
     "base_uri": "https://localhost:8080/",
     "height": 206
    },
    "executionInfo": {
     "elapsed": 61,
     "status": "ok",
     "timestamp": 1761476516235,
     "user": {
      "displayName": "AYA AFFAKI",
      "userId": "16041683805763320174"
     },
     "user_tz": -60
    },
    "id": "iSUyeeIEI0qm",
    "outputId": "20d24260-606f-4e8a-f248-159d7cf1e86a"
   },
   "outputs": [
    {
     "data": {
      "application/vnd.google.colaboratory.intrinsic+json": {
       "summary": "{\n  \"name\": \"col_num\",\n  \"rows\": 1000,\n  \"fields\": [\n    {\n      \"column\": \"montant\",\n      \"properties\": {\n        \"dtype\": \"number\",\n        \"std\": 0.2827386343618515,\n        \"min\": 0.0,\n        \"max\": 1.0000000000000002,\n        \"num_unique_values\": 950,\n        \"samples\": [\n          0.3575098150089649,\n          0.14314921429620703,\n          0.6931227525088391\n        ],\n        \"semantic_type\": \"\",\n        \"description\": \"\"\n      }\n    },\n    {\n      \"column\": \"score_risque_client\",\n      \"properties\": {\n        \"dtype\": \"number\",\n        \"std\": 2,\n        \"min\": 1,\n        \"max\": 10,\n        \"num_unique_values\": 10,\n        \"samples\": [\n          8,\n          9,\n          7\n        ],\n        \"semantic_type\": \"\",\n        \"description\": \"\"\n      }\n    }\n  ]\n}",
       "type": "dataframe",
       "variable_name": "col_num"
      },
      "text/html": [
       "\n",
       "  <div id=\"df-e2daeb09-8f52-46f3-911a-3db6908850c3\" class=\"colab-df-container\">\n",
       "    <div>\n",
       "<style scoped>\n",
       "    .dataframe tbody tr th:only-of-type {\n",
       "        vertical-align: middle;\n",
       "    }\n",
       "\n",
       "    .dataframe tbody tr th {\n",
       "        vertical-align: top;\n",
       "    }\n",
       "\n",
       "    .dataframe thead th {\n",
       "        text-align: right;\n",
       "    }\n",
       "</style>\n",
       "<table border=\"1\" class=\"dataframe\">\n",
       "  <thead>\n",
       "    <tr style=\"text-align: right;\">\n",
       "      <th></th>\n",
       "      <th>montant</th>\n",
       "      <th>score_risque_client</th>\n",
       "    </tr>\n",
       "  </thead>\n",
       "  <tbody>\n",
       "    <tr>\n",
       "      <th>0</th>\n",
       "      <td>0.967118</td>\n",
       "      <td>5</td>\n",
       "    </tr>\n",
       "    <tr>\n",
       "      <th>1</th>\n",
       "      <td>0.761879</td>\n",
       "      <td>9</td>\n",
       "    </tr>\n",
       "    <tr>\n",
       "      <th>2</th>\n",
       "      <td>0.951826</td>\n",
       "      <td>9</td>\n",
       "    </tr>\n",
       "    <tr>\n",
       "      <th>3</th>\n",
       "      <td>0.703316</td>\n",
       "      <td>6</td>\n",
       "    </tr>\n",
       "    <tr>\n",
       "      <th>4</th>\n",
       "      <td>0.298374</td>\n",
       "      <td>1</td>\n",
       "    </tr>\n",
       "  </tbody>\n",
       "</table>\n",
       "</div>\n",
       "    <div class=\"colab-df-buttons\">\n",
       "\n",
       "  <div class=\"colab-df-container\">\n",
       "    <button class=\"colab-df-convert\" onclick=\"convertToInteractive('df-e2daeb09-8f52-46f3-911a-3db6908850c3')\"\n",
       "            title=\"Convert this dataframe to an interactive table.\"\n",
       "            style=\"display:none;\">\n",
       "\n",
       "  <svg xmlns=\"http://www.w3.org/2000/svg\" height=\"24px\" viewBox=\"0 -960 960 960\">\n",
       "    <path d=\"M120-120v-720h720v720H120Zm60-500h600v-160H180v160Zm220 220h160v-160H400v160Zm0 220h160v-160H400v160ZM180-400h160v-160H180v160Zm440 0h160v-160H620v160ZM180-180h160v-160H180v160Zm440 0h160v-160H620v160Z\"/>\n",
       "  </svg>\n",
       "    </button>\n",
       "\n",
       "  <style>\n",
       "    .colab-df-container {\n",
       "      display:flex;\n",
       "      gap: 12px;\n",
       "    }\n",
       "\n",
       "    .colab-df-convert {\n",
       "      background-color: #E8F0FE;\n",
       "      border: none;\n",
       "      border-radius: 50%;\n",
       "      cursor: pointer;\n",
       "      display: none;\n",
       "      fill: #1967D2;\n",
       "      height: 32px;\n",
       "      padding: 0 0 0 0;\n",
       "      width: 32px;\n",
       "    }\n",
       "\n",
       "    .colab-df-convert:hover {\n",
       "      background-color: #E2EBFA;\n",
       "      box-shadow: 0px 1px 2px rgba(60, 64, 67, 0.3), 0px 1px 3px 1px rgba(60, 64, 67, 0.15);\n",
       "      fill: #174EA6;\n",
       "    }\n",
       "\n",
       "    .colab-df-buttons div {\n",
       "      margin-bottom: 4px;\n",
       "    }\n",
       "\n",
       "    [theme=dark] .colab-df-convert {\n",
       "      background-color: #3B4455;\n",
       "      fill: #D2E3FC;\n",
       "    }\n",
       "\n",
       "    [theme=dark] .colab-df-convert:hover {\n",
       "      background-color: #434B5C;\n",
       "      box-shadow: 0px 1px 3px 1px rgba(0, 0, 0, 0.15);\n",
       "      filter: drop-shadow(0px 1px 2px rgba(0, 0, 0, 0.3));\n",
       "      fill: #FFFFFF;\n",
       "    }\n",
       "  </style>\n",
       "\n",
       "    <script>\n",
       "      const buttonEl =\n",
       "        document.querySelector('#df-e2daeb09-8f52-46f3-911a-3db6908850c3 button.colab-df-convert');\n",
       "      buttonEl.style.display =\n",
       "        google.colab.kernel.accessAllowed ? 'block' : 'none';\n",
       "\n",
       "      async function convertToInteractive(key) {\n",
       "        const element = document.querySelector('#df-e2daeb09-8f52-46f3-911a-3db6908850c3');\n",
       "        const dataTable =\n",
       "          await google.colab.kernel.invokeFunction('convertToInteractive',\n",
       "                                                    [key], {});\n",
       "        if (!dataTable) return;\n",
       "\n",
       "        const docLinkHtml = 'Like what you see? Visit the ' +\n",
       "          '<a target=\"_blank\" href=https://colab.research.google.com/notebooks/data_table.ipynb>data table notebook</a>'\n",
       "          + ' to learn more about interactive tables.';\n",
       "        element.innerHTML = '';\n",
       "        dataTable['output_type'] = 'display_data';\n",
       "        await google.colab.output.renderOutput(dataTable, element);\n",
       "        const docLink = document.createElement('div');\n",
       "        docLink.innerHTML = docLinkHtml;\n",
       "        element.appendChild(docLink);\n",
       "      }\n",
       "    </script>\n",
       "  </div>\n",
       "\n",
       "\n",
       "    <div id=\"df-4d0fe4f2-0a13-45a7-bd00-82f34b6d2dcd\">\n",
       "      <button class=\"colab-df-quickchart\" onclick=\"quickchart('df-4d0fe4f2-0a13-45a7-bd00-82f34b6d2dcd')\"\n",
       "                title=\"Suggest charts\"\n",
       "                style=\"display:none;\">\n",
       "\n",
       "<svg xmlns=\"http://www.w3.org/2000/svg\" height=\"24px\"viewBox=\"0 0 24 24\"\n",
       "     width=\"24px\">\n",
       "    <g>\n",
       "        <path d=\"M19 3H5c-1.1 0-2 .9-2 2v14c0 1.1.9 2 2 2h14c1.1 0 2-.9 2-2V5c0-1.1-.9-2-2-2zM9 17H7v-7h2v7zm4 0h-2V7h2v10zm4 0h-2v-4h2v4z\"/>\n",
       "    </g>\n",
       "</svg>\n",
       "      </button>\n",
       "\n",
       "<style>\n",
       "  .colab-df-quickchart {\n",
       "      --bg-color: #E8F0FE;\n",
       "      --fill-color: #1967D2;\n",
       "      --hover-bg-color: #E2EBFA;\n",
       "      --hover-fill-color: #174EA6;\n",
       "      --disabled-fill-color: #AAA;\n",
       "      --disabled-bg-color: #DDD;\n",
       "  }\n",
       "\n",
       "  [theme=dark] .colab-df-quickchart {\n",
       "      --bg-color: #3B4455;\n",
       "      --fill-color: #D2E3FC;\n",
       "      --hover-bg-color: #434B5C;\n",
       "      --hover-fill-color: #FFFFFF;\n",
       "      --disabled-bg-color: #3B4455;\n",
       "      --disabled-fill-color: #666;\n",
       "  }\n",
       "\n",
       "  .colab-df-quickchart {\n",
       "    background-color: var(--bg-color);\n",
       "    border: none;\n",
       "    border-radius: 50%;\n",
       "    cursor: pointer;\n",
       "    display: none;\n",
       "    fill: var(--fill-color);\n",
       "    height: 32px;\n",
       "    padding: 0;\n",
       "    width: 32px;\n",
       "  }\n",
       "\n",
       "  .colab-df-quickchart:hover {\n",
       "    background-color: var(--hover-bg-color);\n",
       "    box-shadow: 0 1px 2px rgba(60, 64, 67, 0.3), 0 1px 3px 1px rgba(60, 64, 67, 0.15);\n",
       "    fill: var(--button-hover-fill-color);\n",
       "  }\n",
       "\n",
       "  .colab-df-quickchart-complete:disabled,\n",
       "  .colab-df-quickchart-complete:disabled:hover {\n",
       "    background-color: var(--disabled-bg-color);\n",
       "    fill: var(--disabled-fill-color);\n",
       "    box-shadow: none;\n",
       "  }\n",
       "\n",
       "  .colab-df-spinner {\n",
       "    border: 2px solid var(--fill-color);\n",
       "    border-color: transparent;\n",
       "    border-bottom-color: var(--fill-color);\n",
       "    animation:\n",
       "      spin 1s steps(1) infinite;\n",
       "  }\n",
       "\n",
       "  @keyframes spin {\n",
       "    0% {\n",
       "      border-color: transparent;\n",
       "      border-bottom-color: var(--fill-color);\n",
       "      border-left-color: var(--fill-color);\n",
       "    }\n",
       "    20% {\n",
       "      border-color: transparent;\n",
       "      border-left-color: var(--fill-color);\n",
       "      border-top-color: var(--fill-color);\n",
       "    }\n",
       "    30% {\n",
       "      border-color: transparent;\n",
       "      border-left-color: var(--fill-color);\n",
       "      border-top-color: var(--fill-color);\n",
       "      border-right-color: var(--fill-color);\n",
       "    }\n",
       "    40% {\n",
       "      border-color: transparent;\n",
       "      border-right-color: var(--fill-color);\n",
       "      border-top-color: var(--fill-color);\n",
       "    }\n",
       "    60% {\n",
       "      border-color: transparent;\n",
       "      border-right-color: var(--fill-color);\n",
       "    }\n",
       "    80% {\n",
       "      border-color: transparent;\n",
       "      border-right-color: var(--fill-color);\n",
       "      border-bottom-color: var(--fill-color);\n",
       "    }\n",
       "    90% {\n",
       "      border-color: transparent;\n",
       "      border-bottom-color: var(--fill-color);\n",
       "    }\n",
       "  }\n",
       "</style>\n",
       "\n",
       "      <script>\n",
       "        async function quickchart(key) {\n",
       "          const quickchartButtonEl =\n",
       "            document.querySelector('#' + key + ' button');\n",
       "          quickchartButtonEl.disabled = true;  // To prevent multiple clicks.\n",
       "          quickchartButtonEl.classList.add('colab-df-spinner');\n",
       "          try {\n",
       "            const charts = await google.colab.kernel.invokeFunction(\n",
       "                'suggestCharts', [key], {});\n",
       "          } catch (error) {\n",
       "            console.error('Error during call to suggestCharts:', error);\n",
       "          }\n",
       "          quickchartButtonEl.classList.remove('colab-df-spinner');\n",
       "          quickchartButtonEl.classList.add('colab-df-quickchart-complete');\n",
       "        }\n",
       "        (() => {\n",
       "          let quickchartButtonEl =\n",
       "            document.querySelector('#df-4d0fe4f2-0a13-45a7-bd00-82f34b6d2dcd button');\n",
       "          quickchartButtonEl.style.display =\n",
       "            google.colab.kernel.accessAllowed ? 'block' : 'none';\n",
       "        })();\n",
       "      </script>\n",
       "    </div>\n",
       "\n",
       "    </div>\n",
       "  </div>\n"
      ],
      "text/plain": [
       "    montant  score_risque_client\n",
       "0  0.967118                    5\n",
       "1  0.761879                    9\n",
       "2  0.951826                    9\n",
       "3  0.703316                    6\n",
       "4  0.298374                    1"
      ]
     },
     "execution_count": 111,
     "metadata": {},
     "output_type": "execute_result"
    }
   ],
   "source": [
    "col_num.head()"
   ]
  },
  {
   "cell_type": "markdown",
   "metadata": {
    "id": "8BvDnfeFI-FI"
   },
   "source": [
    "Encodage ordinale"
   ]
  },
  {
   "cell_type": "code",
   "execution_count": 112,
   "metadata": {
    "colab": {
     "base_uri": "https://localhost:8080/"
    },
    "executionInfo": {
     "elapsed": 18,
     "status": "ok",
     "timestamp": 1761476516255,
     "user": {
      "displayName": "AYA AFFAKI",
      "userId": "16041683805763320174"
     },
     "user_tz": -60
    },
    "id": "l0oInAWqJ7CN",
    "outputId": "6bd10949-38bd-417e-8030-0c027633d0a9"
   },
   "outputs": [
    {
     "name": "stdout",
     "output_type": "stream",
     "text": [
      "devise -> One-Hot\n",
      "type_transaction -> One-Hot\n",
      "lieu -> One-Hot\n",
      "canal -> One-Hot\n",
      "moyen_paiement -> One-Hot\n",
      "categorie_commerce -> One-Hot\n",
      "device_utilise -> One-Hot\n"
     ]
    }
   ],
   "source": [
    "df_binaire_list, df_onehot_list, df_freq_list = choixEncodage()"
   ]
  },
  {
   "cell_type": "code",
   "execution_count": 113,
   "metadata": {
    "executionInfo": {
     "elapsed": 2,
     "status": "ok",
     "timestamp": 1761476516259,
     "user": {
      "displayName": "AYA AFFAKI",
      "userId": "16041683805763320174"
     },
     "user_tz": -60
    },
    "id": "DXv6qvHVK1H_"
   },
   "outputs": [],
   "source": [
    "final = pd.DataFrame()\n",
    "def ajouter(df):\n",
    "  for col in df.columns:\n",
    "    final[col]= df[col]\n",
    "    print(f'{col} à ajouté')"
   ]
  },
  {
   "cell_type": "code",
   "execution_count": 114,
   "metadata": {
    "colab": {
     "base_uri": "https://localhost:8080/"
    },
    "executionInfo": {
     "elapsed": 12,
     "status": "ok",
     "timestamp": 1761476516274,
     "user": {
      "displayName": "AYA AFFAKI",
      "userId": "16041683805763320174"
     },
     "user_tz": -60
    },
    "id": "69JoFHEPLLbi",
    "outputId": "8e2f87f8-d128-46fe-e651-c61a24a38ac1"
   },
   "outputs": [
    {
     "name": "stdout",
     "output_type": "stream",
     "text": [
      "montant à ajouté\n",
      "score_risque_client à ajouté\n",
      "date_jour à ajouté\n",
      "date_mois à ajouté\n",
      "date_annee à ajouté\n",
      "date_jour_semaine à ajouté\n",
      "date_weekend à ajouté\n",
      "heure_heure à ajouté\n",
      "heure_minute à ajouté\n",
      "heure_seconde à ajouté\n",
      "heure_periode à ajouté\n",
      "devise_EUR à ajouté\n",
      "devise_MAD à ajouté\n",
      "devise_USD à ajouté\n",
      "type_transaction_paiement en ligne à ajouté\n",
      "type_transaction_retrait à ajouté\n",
      "type_transaction_virement à ajouté\n",
      "lieu_Casablanca à ajouté\n",
      "lieu_Fès à ajouté\n",
      "lieu_Marrakech à ajouté\n",
      "lieu_Rabat à ajouté\n",
      "lieu_Tanger à ajouté\n",
      "canal_application mobile à ajouté\n",
      "canal_carte à ajouté\n",
      "canal_en ligne à ajouté\n",
      "canal_guichet à ajouté\n",
      "moyen_paiement_Amex à ajouté\n",
      "moyen_paiement_Cash à ajouté\n",
      "moyen_paiement_MasterCard à ajouté\n",
      "moyen_paiement_Visa à ajouté\n",
      "categorie_commerce_alimentaire à ajouté\n",
      "categorie_commerce_mode à ajouté\n",
      "categorie_commerce_santé à ajouté\n",
      "categorie_commerce_voyage à ajouté\n",
      "categorie_commerce_électronique à ajouté\n",
      "device_utilise_ATM à ajouté\n",
      "device_utilise_Android à ajouté\n",
      "device_utilise_Web à ajouté\n",
      "device_utilise_iOS à ajouté\n"
     ]
    }
   ],
   "source": [
    "ajouter(col_num)\n",
    "ajouter(col_temp)\n",
    "ajouter(df_binaire_list)\n",
    "ajouter(df_onehot_list)\n",
    "ajouter(df_freq_list)\n",
    "final[tagert] = df[tagert]"
   ]
  },
  {
   "cell_type": "code",
   "execution_count": 115,
   "metadata": {
    "colab": {
     "base_uri": "https://localhost:8080/",
     "height": 255
    },
    "executionInfo": {
     "elapsed": 92,
     "status": "ok",
     "timestamp": 1761476516368,
     "user": {
      "displayName": "AYA AFFAKI",
      "userId": "16041683805763320174"
     },
     "user_tz": -60
    },
    "id": "pWd-5Lv0MFgm",
    "outputId": "0965c635-aaba-4099-baba-41d0fb5f7cb4"
   },
   "outputs": [
    {
     "data": {
      "application/vnd.google.colaboratory.intrinsic+json": {
       "type": "dataframe",
       "variable_name": "final"
      },
      "text/html": [
       "\n",
       "  <div id=\"df-10cb1fd1-978d-4f4e-b5bb-7e823d4290fc\" class=\"colab-df-container\">\n",
       "    <div>\n",
       "<style scoped>\n",
       "    .dataframe tbody tr th:only-of-type {\n",
       "        vertical-align: middle;\n",
       "    }\n",
       "\n",
       "    .dataframe tbody tr th {\n",
       "        vertical-align: top;\n",
       "    }\n",
       "\n",
       "    .dataframe thead th {\n",
       "        text-align: right;\n",
       "    }\n",
       "</style>\n",
       "<table border=\"1\" class=\"dataframe\">\n",
       "  <thead>\n",
       "    <tr style=\"text-align: right;\">\n",
       "      <th></th>\n",
       "      <th>montant</th>\n",
       "      <th>score_risque_client</th>\n",
       "      <th>date_jour</th>\n",
       "      <th>date_mois</th>\n",
       "      <th>date_annee</th>\n",
       "      <th>date_jour_semaine</th>\n",
       "      <th>date_weekend</th>\n",
       "      <th>heure_heure</th>\n",
       "      <th>heure_minute</th>\n",
       "      <th>heure_seconde</th>\n",
       "      <th>...</th>\n",
       "      <th>categorie_commerce_alimentaire</th>\n",
       "      <th>categorie_commerce_mode</th>\n",
       "      <th>categorie_commerce_santé</th>\n",
       "      <th>categorie_commerce_voyage</th>\n",
       "      <th>categorie_commerce_électronique</th>\n",
       "      <th>device_utilise_ATM</th>\n",
       "      <th>device_utilise_Android</th>\n",
       "      <th>device_utilise_Web</th>\n",
       "      <th>device_utilise_iOS</th>\n",
       "      <th>is_fraud</th>\n",
       "    </tr>\n",
       "  </thead>\n",
       "  <tbody>\n",
       "    <tr>\n",
       "      <th>0</th>\n",
       "      <td>0.967118</td>\n",
       "      <td>5</td>\n",
       "      <td>7.0</td>\n",
       "      <td>1.0</td>\n",
       "      <td>2025.0</td>\n",
       "      <td>1.0</td>\n",
       "      <td>0</td>\n",
       "      <td>22</td>\n",
       "      <td>38</td>\n",
       "      <td>2</td>\n",
       "      <td>...</td>\n",
       "      <td>False</td>\n",
       "      <td>False</td>\n",
       "      <td>False</td>\n",
       "      <td>False</td>\n",
       "      <td>True</td>\n",
       "      <td>False</td>\n",
       "      <td>True</td>\n",
       "      <td>False</td>\n",
       "      <td>False</td>\n",
       "      <td>0</td>\n",
       "    </tr>\n",
       "    <tr>\n",
       "      <th>1</th>\n",
       "      <td>0.761879</td>\n",
       "      <td>9</td>\n",
       "      <td>7.0</td>\n",
       "      <td>1.0</td>\n",
       "      <td>2025.0</td>\n",
       "      <td>1.0</td>\n",
       "      <td>0</td>\n",
       "      <td>9</td>\n",
       "      <td>9</td>\n",
       "      <td>18</td>\n",
       "      <td>...</td>\n",
       "      <td>False</td>\n",
       "      <td>False</td>\n",
       "      <td>False</td>\n",
       "      <td>True</td>\n",
       "      <td>False</td>\n",
       "      <td>True</td>\n",
       "      <td>False</td>\n",
       "      <td>False</td>\n",
       "      <td>False</td>\n",
       "      <td>0</td>\n",
       "    </tr>\n",
       "    <tr>\n",
       "      <th>2</th>\n",
       "      <td>0.951826</td>\n",
       "      <td>9</td>\n",
       "      <td>7.0</td>\n",
       "      <td>1.0</td>\n",
       "      <td>2025.0</td>\n",
       "      <td>1.0</td>\n",
       "      <td>0</td>\n",
       "      <td>13</td>\n",
       "      <td>33</td>\n",
       "      <td>32</td>\n",
       "      <td>...</td>\n",
       "      <td>False</td>\n",
       "      <td>False</td>\n",
       "      <td>False</td>\n",
       "      <td>True</td>\n",
       "      <td>False</td>\n",
       "      <td>True</td>\n",
       "      <td>False</td>\n",
       "      <td>False</td>\n",
       "      <td>False</td>\n",
       "      <td>0</td>\n",
       "    </tr>\n",
       "    <tr>\n",
       "      <th>3</th>\n",
       "      <td>0.703316</td>\n",
       "      <td>6</td>\n",
       "      <td>7.0</td>\n",
       "      <td>1.0</td>\n",
       "      <td>2025.0</td>\n",
       "      <td>1.0</td>\n",
       "      <td>0</td>\n",
       "      <td>22</td>\n",
       "      <td>54</td>\n",
       "      <td>27</td>\n",
       "      <td>...</td>\n",
       "      <td>False</td>\n",
       "      <td>False</td>\n",
       "      <td>True</td>\n",
       "      <td>False</td>\n",
       "      <td>False</td>\n",
       "      <td>False</td>\n",
       "      <td>True</td>\n",
       "      <td>False</td>\n",
       "      <td>False</td>\n",
       "      <td>0</td>\n",
       "    </tr>\n",
       "    <tr>\n",
       "      <th>4</th>\n",
       "      <td>0.298374</td>\n",
       "      <td>1</td>\n",
       "      <td>7.0</td>\n",
       "      <td>1.0</td>\n",
       "      <td>2025.0</td>\n",
       "      <td>1.0</td>\n",
       "      <td>0</td>\n",
       "      <td>17</td>\n",
       "      <td>6</td>\n",
       "      <td>28</td>\n",
       "      <td>...</td>\n",
       "      <td>False</td>\n",
       "      <td>False</td>\n",
       "      <td>False</td>\n",
       "      <td>False</td>\n",
       "      <td>True</td>\n",
       "      <td>False</td>\n",
       "      <td>False</td>\n",
       "      <td>False</td>\n",
       "      <td>True</td>\n",
       "      <td>0</td>\n",
       "    </tr>\n",
       "  </tbody>\n",
       "</table>\n",
       "<p>5 rows × 40 columns</p>\n",
       "</div>\n",
       "    <div class=\"colab-df-buttons\">\n",
       "\n",
       "  <div class=\"colab-df-container\">\n",
       "    <button class=\"colab-df-convert\" onclick=\"convertToInteractive('df-10cb1fd1-978d-4f4e-b5bb-7e823d4290fc')\"\n",
       "            title=\"Convert this dataframe to an interactive table.\"\n",
       "            style=\"display:none;\">\n",
       "\n",
       "  <svg xmlns=\"http://www.w3.org/2000/svg\" height=\"24px\" viewBox=\"0 -960 960 960\">\n",
       "    <path d=\"M120-120v-720h720v720H120Zm60-500h600v-160H180v160Zm220 220h160v-160H400v160Zm0 220h160v-160H400v160ZM180-400h160v-160H180v160Zm440 0h160v-160H620v160ZM180-180h160v-160H180v160Zm440 0h160v-160H620v160Z\"/>\n",
       "  </svg>\n",
       "    </button>\n",
       "\n",
       "  <style>\n",
       "    .colab-df-container {\n",
       "      display:flex;\n",
       "      gap: 12px;\n",
       "    }\n",
       "\n",
       "    .colab-df-convert {\n",
       "      background-color: #E8F0FE;\n",
       "      border: none;\n",
       "      border-radius: 50%;\n",
       "      cursor: pointer;\n",
       "      display: none;\n",
       "      fill: #1967D2;\n",
       "      height: 32px;\n",
       "      padding: 0 0 0 0;\n",
       "      width: 32px;\n",
       "    }\n",
       "\n",
       "    .colab-df-convert:hover {\n",
       "      background-color: #E2EBFA;\n",
       "      box-shadow: 0px 1px 2px rgba(60, 64, 67, 0.3), 0px 1px 3px 1px rgba(60, 64, 67, 0.15);\n",
       "      fill: #174EA6;\n",
       "    }\n",
       "\n",
       "    .colab-df-buttons div {\n",
       "      margin-bottom: 4px;\n",
       "    }\n",
       "\n",
       "    [theme=dark] .colab-df-convert {\n",
       "      background-color: #3B4455;\n",
       "      fill: #D2E3FC;\n",
       "    }\n",
       "\n",
       "    [theme=dark] .colab-df-convert:hover {\n",
       "      background-color: #434B5C;\n",
       "      box-shadow: 0px 1px 3px 1px rgba(0, 0, 0, 0.15);\n",
       "      filter: drop-shadow(0px 1px 2px rgba(0, 0, 0, 0.3));\n",
       "      fill: #FFFFFF;\n",
       "    }\n",
       "  </style>\n",
       "\n",
       "    <script>\n",
       "      const buttonEl =\n",
       "        document.querySelector('#df-10cb1fd1-978d-4f4e-b5bb-7e823d4290fc button.colab-df-convert');\n",
       "      buttonEl.style.display =\n",
       "        google.colab.kernel.accessAllowed ? 'block' : 'none';\n",
       "\n",
       "      async function convertToInteractive(key) {\n",
       "        const element = document.querySelector('#df-10cb1fd1-978d-4f4e-b5bb-7e823d4290fc');\n",
       "        const dataTable =\n",
       "          await google.colab.kernel.invokeFunction('convertToInteractive',\n",
       "                                                    [key], {});\n",
       "        if (!dataTable) return;\n",
       "\n",
       "        const docLinkHtml = 'Like what you see? Visit the ' +\n",
       "          '<a target=\"_blank\" href=https://colab.research.google.com/notebooks/data_table.ipynb>data table notebook</a>'\n",
       "          + ' to learn more about interactive tables.';\n",
       "        element.innerHTML = '';\n",
       "        dataTable['output_type'] = 'display_data';\n",
       "        await google.colab.output.renderOutput(dataTable, element);\n",
       "        const docLink = document.createElement('div');\n",
       "        docLink.innerHTML = docLinkHtml;\n",
       "        element.appendChild(docLink);\n",
       "      }\n",
       "    </script>\n",
       "  </div>\n",
       "\n",
       "\n",
       "    <div id=\"df-8b06dd63-97af-424f-b2e0-3fa6858ca56b\">\n",
       "      <button class=\"colab-df-quickchart\" onclick=\"quickchart('df-8b06dd63-97af-424f-b2e0-3fa6858ca56b')\"\n",
       "                title=\"Suggest charts\"\n",
       "                style=\"display:none;\">\n",
       "\n",
       "<svg xmlns=\"http://www.w3.org/2000/svg\" height=\"24px\"viewBox=\"0 0 24 24\"\n",
       "     width=\"24px\">\n",
       "    <g>\n",
       "        <path d=\"M19 3H5c-1.1 0-2 .9-2 2v14c0 1.1.9 2 2 2h14c1.1 0 2-.9 2-2V5c0-1.1-.9-2-2-2zM9 17H7v-7h2v7zm4 0h-2V7h2v10zm4 0h-2v-4h2v4z\"/>\n",
       "    </g>\n",
       "</svg>\n",
       "      </button>\n",
       "\n",
       "<style>\n",
       "  .colab-df-quickchart {\n",
       "      --bg-color: #E8F0FE;\n",
       "      --fill-color: #1967D2;\n",
       "      --hover-bg-color: #E2EBFA;\n",
       "      --hover-fill-color: #174EA6;\n",
       "      --disabled-fill-color: #AAA;\n",
       "      --disabled-bg-color: #DDD;\n",
       "  }\n",
       "\n",
       "  [theme=dark] .colab-df-quickchart {\n",
       "      --bg-color: #3B4455;\n",
       "      --fill-color: #D2E3FC;\n",
       "      --hover-bg-color: #434B5C;\n",
       "      --hover-fill-color: #FFFFFF;\n",
       "      --disabled-bg-color: #3B4455;\n",
       "      --disabled-fill-color: #666;\n",
       "  }\n",
       "\n",
       "  .colab-df-quickchart {\n",
       "    background-color: var(--bg-color);\n",
       "    border: none;\n",
       "    border-radius: 50%;\n",
       "    cursor: pointer;\n",
       "    display: none;\n",
       "    fill: var(--fill-color);\n",
       "    height: 32px;\n",
       "    padding: 0;\n",
       "    width: 32px;\n",
       "  }\n",
       "\n",
       "  .colab-df-quickchart:hover {\n",
       "    background-color: var(--hover-bg-color);\n",
       "    box-shadow: 0 1px 2px rgba(60, 64, 67, 0.3), 0 1px 3px 1px rgba(60, 64, 67, 0.15);\n",
       "    fill: var(--button-hover-fill-color);\n",
       "  }\n",
       "\n",
       "  .colab-df-quickchart-complete:disabled,\n",
       "  .colab-df-quickchart-complete:disabled:hover {\n",
       "    background-color: var(--disabled-bg-color);\n",
       "    fill: var(--disabled-fill-color);\n",
       "    box-shadow: none;\n",
       "  }\n",
       "\n",
       "  .colab-df-spinner {\n",
       "    border: 2px solid var(--fill-color);\n",
       "    border-color: transparent;\n",
       "    border-bottom-color: var(--fill-color);\n",
       "    animation:\n",
       "      spin 1s steps(1) infinite;\n",
       "  }\n",
       "\n",
       "  @keyframes spin {\n",
       "    0% {\n",
       "      border-color: transparent;\n",
       "      border-bottom-color: var(--fill-color);\n",
       "      border-left-color: var(--fill-color);\n",
       "    }\n",
       "    20% {\n",
       "      border-color: transparent;\n",
       "      border-left-color: var(--fill-color);\n",
       "      border-top-color: var(--fill-color);\n",
       "    }\n",
       "    30% {\n",
       "      border-color: transparent;\n",
       "      border-left-color: var(--fill-color);\n",
       "      border-top-color: var(--fill-color);\n",
       "      border-right-color: var(--fill-color);\n",
       "    }\n",
       "    40% {\n",
       "      border-color: transparent;\n",
       "      border-right-color: var(--fill-color);\n",
       "      border-top-color: var(--fill-color);\n",
       "    }\n",
       "    60% {\n",
       "      border-color: transparent;\n",
       "      border-right-color: var(--fill-color);\n",
       "    }\n",
       "    80% {\n",
       "      border-color: transparent;\n",
       "      border-right-color: var(--fill-color);\n",
       "      border-bottom-color: var(--fill-color);\n",
       "    }\n",
       "    90% {\n",
       "      border-color: transparent;\n",
       "      border-bottom-color: var(--fill-color);\n",
       "    }\n",
       "  }\n",
       "</style>\n",
       "\n",
       "      <script>\n",
       "        async function quickchart(key) {\n",
       "          const quickchartButtonEl =\n",
       "            document.querySelector('#' + key + ' button');\n",
       "          quickchartButtonEl.disabled = true;  // To prevent multiple clicks.\n",
       "          quickchartButtonEl.classList.add('colab-df-spinner');\n",
       "          try {\n",
       "            const charts = await google.colab.kernel.invokeFunction(\n",
       "                'suggestCharts', [key], {});\n",
       "          } catch (error) {\n",
       "            console.error('Error during call to suggestCharts:', error);\n",
       "          }\n",
       "          quickchartButtonEl.classList.remove('colab-df-spinner');\n",
       "          quickchartButtonEl.classList.add('colab-df-quickchart-complete');\n",
       "        }\n",
       "        (() => {\n",
       "          let quickchartButtonEl =\n",
       "            document.querySelector('#df-8b06dd63-97af-424f-b2e0-3fa6858ca56b button');\n",
       "          quickchartButtonEl.style.display =\n",
       "            google.colab.kernel.accessAllowed ? 'block' : 'none';\n",
       "        })();\n",
       "      </script>\n",
       "    </div>\n",
       "\n",
       "    </div>\n",
       "  </div>\n"
      ],
      "text/plain": [
       "    montant  score_risque_client  date_jour  date_mois  date_annee  \\\n",
       "0  0.967118                    5        7.0        1.0      2025.0   \n",
       "1  0.761879                    9        7.0        1.0      2025.0   \n",
       "2  0.951826                    9        7.0        1.0      2025.0   \n",
       "3  0.703316                    6        7.0        1.0      2025.0   \n",
       "4  0.298374                    1        7.0        1.0      2025.0   \n",
       "\n",
       "   date_jour_semaine  date_weekend  heure_heure  heure_minute  heure_seconde  \\\n",
       "0                1.0             0           22            38              2   \n",
       "1                1.0             0            9             9             18   \n",
       "2                1.0             0           13            33             32   \n",
       "3                1.0             0           22            54             27   \n",
       "4                1.0             0           17             6             28   \n",
       "\n",
       "   ...  categorie_commerce_alimentaire  categorie_commerce_mode  \\\n",
       "0  ...                           False                    False   \n",
       "1  ...                           False                    False   \n",
       "2  ...                           False                    False   \n",
       "3  ...                           False                    False   \n",
       "4  ...                           False                    False   \n",
       "\n",
       "   categorie_commerce_santé  categorie_commerce_voyage  \\\n",
       "0                     False                      False   \n",
       "1                     False                       True   \n",
       "2                     False                       True   \n",
       "3                      True                      False   \n",
       "4                     False                      False   \n",
       "\n",
       "   categorie_commerce_électronique  device_utilise_ATM  \\\n",
       "0                             True               False   \n",
       "1                            False                True   \n",
       "2                            False                True   \n",
       "3                            False               False   \n",
       "4                             True               False   \n",
       "\n",
       "   device_utilise_Android  device_utilise_Web  device_utilise_iOS  is_fraud  \n",
       "0                    True               False               False         0  \n",
       "1                   False               False               False         0  \n",
       "2                   False               False               False         0  \n",
       "3                    True               False               False         0  \n",
       "4                   False               False                True         0  \n",
       "\n",
       "[5 rows x 40 columns]"
      ]
     },
     "execution_count": 115,
     "metadata": {},
     "output_type": "execute_result"
    }
   ],
   "source": [
    "final.head()"
   ]
  },
  {
   "cell_type": "code",
   "execution_count": 116,
   "metadata": {
    "colab": {
     "base_uri": "https://localhost:8080/"
    },
    "executionInfo": {
     "elapsed": 23,
     "status": "ok",
     "timestamp": 1761476516371,
     "user": {
      "displayName": "AYA AFFAKI",
      "userId": "16041683805763320174"
     },
     "user_tz": -60
    },
    "id": "Z-8wgtKYMpz8",
    "outputId": "0f015438-d536-4fe5-a56f-3b7eb7b968d6"
   },
   "outputs": [
    {
     "name": "stdout",
     "output_type": "stream",
     "text": [
      "<class 'pandas.core.frame.DataFrame'>\n",
      "RangeIndex: 1000 entries, 0 to 999\n",
      "Data columns (total 40 columns):\n",
      " #   Column                              Non-Null Count  Dtype  \n",
      "---  ------                              --------------  -----  \n",
      " 0   montant                             1000 non-null   float64\n",
      " 1   score_risque_client                 1000 non-null   int64  \n",
      " 2   date_jour                           1000 non-null   float64\n",
      " 3   date_mois                           1000 non-null   float64\n",
      " 4   date_annee                          1000 non-null   float64\n",
      " 5   date_jour_semaine                   1000 non-null   float64\n",
      " 6   date_weekend                        1000 non-null   int64  \n",
      " 7   heure_heure                         1000 non-null   int32  \n",
      " 8   heure_minute                        1000 non-null   int32  \n",
      " 9   heure_seconde                       1000 non-null   int32  \n",
      " 10  heure_periode                       1000 non-null   int64  \n",
      " 11  devise_EUR                          1000 non-null   bool   \n",
      " 12  devise_MAD                          1000 non-null   bool   \n",
      " 13  devise_USD                          1000 non-null   bool   \n",
      " 14  type_transaction_paiement en ligne  1000 non-null   bool   \n",
      " 15  type_transaction_retrait            1000 non-null   bool   \n",
      " 16  type_transaction_virement           1000 non-null   bool   \n",
      " 17  lieu_Casablanca                     1000 non-null   bool   \n",
      " 18  lieu_Fès                            1000 non-null   bool   \n",
      " 19  lieu_Marrakech                      1000 non-null   bool   \n",
      " 20  lieu_Rabat                          1000 non-null   bool   \n",
      " 21  lieu_Tanger                         1000 non-null   bool   \n",
      " 22  canal_application mobile            1000 non-null   bool   \n",
      " 23  canal_carte                         1000 non-null   bool   \n",
      " 24  canal_en ligne                      1000 non-null   bool   \n",
      " 25  canal_guichet                       1000 non-null   bool   \n",
      " 26  moyen_paiement_Amex                 1000 non-null   bool   \n",
      " 27  moyen_paiement_Cash                 1000 non-null   bool   \n",
      " 28  moyen_paiement_MasterCard           1000 non-null   bool   \n",
      " 29  moyen_paiement_Visa                 1000 non-null   bool   \n",
      " 30  categorie_commerce_alimentaire      1000 non-null   bool   \n",
      " 31  categorie_commerce_mode             1000 non-null   bool   \n",
      " 32  categorie_commerce_santé            1000 non-null   bool   \n",
      " 33  categorie_commerce_voyage           1000 non-null   bool   \n",
      " 34  categorie_commerce_électronique     1000 non-null   bool   \n",
      " 35  device_utilise_ATM                  1000 non-null   bool   \n",
      " 36  device_utilise_Android              1000 non-null   bool   \n",
      " 37  device_utilise_Web                  1000 non-null   bool   \n",
      " 38  device_utilise_iOS                  1000 non-null   bool   \n",
      " 39  is_fraud                            1000 non-null   int64  \n",
      "dtypes: bool(28), float64(5), int32(3), int64(4)\n",
      "memory usage: 109.5 KB\n"
     ]
    }
   ],
   "source": [
    "final.info()"
   ]
  },
  {
   "cell_type": "markdown",
   "metadata": {
    "id": "-kmtqa_LLkPM"
   },
   "source": [
    "Feature selection"
   ]
  },
  {
   "cell_type": "code",
   "execution_count": 117,
   "metadata": {
    "executionInfo": {
     "elapsed": 9,
     "status": "ok",
     "timestamp": 1761476516374,
     "user": {
      "displayName": "AYA AFFAKI",
      "userId": "16041683805763320174"
     },
     "user_tz": -60
    },
    "id": "AT1cxa38LjYt"
   },
   "outputs": [],
   "source": [
    "def feature_selection(df, seuil=0.0):\n",
    "    \"\"\"\n",
    "    Supprime les colonnes dont la corrélation avec la variable cible est <= seuil.\n",
    "    Affiche pour chaque colonne sa corrélation avant suppression.\n",
    "\n",
    "    Args:\n",
    "        df : pd.DataFrame - DataFrame contenant features et target\n",
    "\n",
    "        seuil : float - seuil minimal de corrélation (colonnes avec corr <= seuil sont supprimées)\n",
    "\n",
    "    Returns:\n",
    "        df_filtered : pd.DataFrame - DataFrame après suppression des colonnes\n",
    "        cols_removed : list - liste des colonnes supprimées\n",
    "    \"\"\"\n",
    "    if tagert not in df.columns:\n",
    "        raise ValueError(f\"Variable cible '{tagert}' non trouvée dans le DataFrame\")\n",
    "\n",
    "    corr_with_tagert = df.corr()[tagert]\n",
    "\n",
    "    cols_to_drop = []\n",
    "\n",
    "    print(f\"\\nCorrélations avec la variable cible '{tagert}' :\")\n",
    "    print(\"-\"*50)\n",
    "\n",
    "    for col, corr_val in corr_with_tagert.items():\n",
    "        if col == tagert:\n",
    "            continue\n",
    "        print(f\"{col:25s} → corrélation = {corr_val:.3f} ; seuil = {seuil}\")\n",
    "        if corr_val <= seuil:\n",
    "            cols_to_drop.append(col)\n",
    "\n",
    "    # Supprimer les colonnes\n",
    "    df_filtered = df.drop(columns=cols_to_drop)\n",
    "\n",
    "    print(\"\\nColonnes supprimées :\")\n",
    "    print(cols_to_drop)\n",
    "\n",
    "    return df_filtered, cols_to_drop\n"
   ]
  },
  {
   "cell_type": "code",
   "execution_count": 118,
   "metadata": {
    "colab": {
     "base_uri": "https://localhost:8080/"
    },
    "executionInfo": {
     "elapsed": 12,
     "status": "ok",
     "timestamp": 1761476516389,
     "user": {
      "displayName": "AYA AFFAKI",
      "userId": "16041683805763320174"
     },
     "user_tz": -60
    },
    "id": "2yNK15hcOSGG",
    "outputId": "70c6dea6-2488-4e87-df99-23a299782219"
   },
   "outputs": [
    {
     "name": "stdout",
     "output_type": "stream",
     "text": [
      "\n",
      "Corrélations avec la variable cible 'is_fraud' :\n",
      "--------------------------------------------------\n",
      "montant                   → corrélation = 0.020 ; seuil = 0.0\n",
      "score_risque_client       → corrélation = -0.012 ; seuil = 0.0\n",
      "date_jour                 → corrélation = -0.009 ; seuil = 0.0\n",
      "date_mois                 → corrélation = -0.012 ; seuil = 0.0\n",
      "date_annee                → corrélation = nan ; seuil = 0.0\n",
      "date_jour_semaine         → corrélation = 0.003 ; seuil = 0.0\n",
      "date_weekend              → corrélation = -0.028 ; seuil = 0.0\n",
      "heure_heure               → corrélation = 0.014 ; seuil = 0.0\n",
      "heure_minute              → corrélation = -0.001 ; seuil = 0.0\n",
      "heure_seconde             → corrélation = -0.024 ; seuil = 0.0\n",
      "heure_periode             → corrélation = -0.022 ; seuil = 0.0\n",
      "devise_EUR                → corrélation = -0.025 ; seuil = 0.0\n",
      "devise_MAD                → corrélation = -0.001 ; seuil = 0.0\n",
      "devise_USD                → corrélation = 0.041 ; seuil = 0.0\n",
      "type_transaction_paiement en ligne → corrélation = -0.063 ; seuil = 0.0\n",
      "type_transaction_retrait  → corrélation = 0.031 ; seuil = 0.0\n",
      "type_transaction_virement → corrélation = 0.045 ; seuil = 0.0\n",
      "lieu_Casablanca           → corrélation = -0.026 ; seuil = 0.0\n",
      "lieu_Fès                  → corrélation = -0.039 ; seuil = 0.0\n",
      "lieu_Marrakech            → corrélation = 0.012 ; seuil = 0.0\n",
      "lieu_Rabat                → corrélation = 0.055 ; seuil = 0.0\n",
      "lieu_Tanger               → corrélation = 0.007 ; seuil = 0.0\n",
      "canal_application mobile  → corrélation = -0.030 ; seuil = 0.0\n",
      "canal_carte               → corrélation = -0.001 ; seuil = 0.0\n",
      "canal_en ligne            → corrélation = 0.027 ; seuil = 0.0\n",
      "canal_guichet             → corrélation = 0.002 ; seuil = 0.0\n",
      "moyen_paiement_Amex       → corrélation = -0.008 ; seuil = 0.0\n",
      "moyen_paiement_Cash       → corrélation = -0.025 ; seuil = 0.0\n",
      "moyen_paiement_MasterCard → corrélation = 0.069 ; seuil = 0.0\n",
      "moyen_paiement_Visa       → corrélation = -0.031 ; seuil = 0.0\n",
      "categorie_commerce_alimentaire → corrélation = -0.015 ; seuil = 0.0\n",
      "categorie_commerce_mode   → corrélation = -0.030 ; seuil = 0.0\n",
      "categorie_commerce_santé  → corrélation = 0.041 ; seuil = 0.0\n",
      "categorie_commerce_voyage → corrélation = -0.008 ; seuil = 0.0\n",
      "categorie_commerce_électronique → corrélation = 0.011 ; seuil = 0.0\n",
      "device_utilise_ATM        → corrélation = -0.016 ; seuil = 0.0\n",
      "device_utilise_Android    → corrélation = -0.004 ; seuil = 0.0\n",
      "device_utilise_Web        → corrélation = 0.023 ; seuil = 0.0\n",
      "device_utilise_iOS        → corrélation = -0.004 ; seuil = 0.0\n",
      "\n",
      "Colonnes supprimées :\n",
      "['score_risque_client', 'date_jour', 'date_mois', 'date_weekend', 'heure_minute', 'heure_seconde', 'heure_periode', 'devise_EUR', 'devise_MAD', 'type_transaction_paiement en ligne', 'lieu_Casablanca', 'lieu_Fès', 'canal_application mobile', 'canal_carte', 'moyen_paiement_Amex', 'moyen_paiement_Cash', 'moyen_paiement_Visa', 'categorie_commerce_alimentaire', 'categorie_commerce_mode', 'categorie_commerce_voyage', 'device_utilise_ATM', 'device_utilise_Android', 'device_utilise_iOS']\n"
     ]
    }
   ],
   "source": [
    "final = feature_selection(final, seuil=0.0)[0]\n"
   ]
  },
  {
   "cell_type": "code",
   "execution_count": 119,
   "metadata": {
    "colab": {
     "base_uri": "https://localhost:8080/"
    },
    "executionInfo": {
     "elapsed": 31,
     "status": "ok",
     "timestamp": 1761476516422,
     "user": {
      "displayName": "AYA AFFAKI",
      "userId": "16041683805763320174"
     },
     "user_tz": -60
    },
    "id": "8VM8n-kqOjAx",
    "outputId": "f27c5fa7-c718-4d75-d081-451c8d45cdab"
   },
   "outputs": [
    {
     "name": "stdout",
     "output_type": "stream",
     "text": [
      "<class 'pandas.core.frame.DataFrame'>\n",
      "RangeIndex: 1000 entries, 0 to 999\n",
      "Data columns (total 17 columns):\n",
      " #   Column                           Non-Null Count  Dtype  \n",
      "---  ------                           --------------  -----  \n",
      " 0   montant                          1000 non-null   float64\n",
      " 1   date_annee                       1000 non-null   float64\n",
      " 2   date_jour_semaine                1000 non-null   float64\n",
      " 3   heure_heure                      1000 non-null   int32  \n",
      " 4   devise_USD                       1000 non-null   bool   \n",
      " 5   type_transaction_retrait         1000 non-null   bool   \n",
      " 6   type_transaction_virement        1000 non-null   bool   \n",
      " 7   lieu_Marrakech                   1000 non-null   bool   \n",
      " 8   lieu_Rabat                       1000 non-null   bool   \n",
      " 9   lieu_Tanger                      1000 non-null   bool   \n",
      " 10  canal_en ligne                   1000 non-null   bool   \n",
      " 11  canal_guichet                    1000 non-null   bool   \n",
      " 12  moyen_paiement_MasterCard        1000 non-null   bool   \n",
      " 13  categorie_commerce_santé         1000 non-null   bool   \n",
      " 14  categorie_commerce_électronique  1000 non-null   bool   \n",
      " 15  device_utilise_Web               1000 non-null   bool   \n",
      " 16  is_fraud                         1000 non-null   int64  \n",
      "dtypes: bool(12), float64(3), int32(1), int64(1)\n",
      "memory usage: 47.0 KB\n"
     ]
    }
   ],
   "source": [
    "final.info()"
   ]
  },
  {
   "cell_type": "code",
   "execution_count": 119,
   "metadata": {
    "executionInfo": {
     "elapsed": 22,
     "status": "ok",
     "timestamp": 1761476516425,
     "user": {
      "displayName": "AYA AFFAKI",
      "userId": "16041683805763320174"
     },
     "user_tz": -60
    },
    "id": "i7vNyIqxR4UF"
   },
   "outputs": [],
   "source": []
  },
  {
   "cell_type": "markdown",
   "metadata": {
    "id": "MFH9wo3lRPA8"
   },
   "source": [
    "#Algo KNN"
   ]
  },
  {
   "cell_type": "markdown",
   "metadata": {
    "id": "GhFLYLBUSp9v"
   },
   "source": [
    "Prepare data"
   ]
  },
  {
   "cell_type": "code",
   "execution_count": 120,
   "metadata": {
    "executionInfo": {
     "elapsed": 21,
     "status": "ok",
     "timestamp": 1761476516427,
     "user": {
      "displayName": "AYA AFFAKI",
      "userId": "16041683805763320174"
     },
     "user_tz": -60
    },
    "id": "FznSV0QYROg5"
   },
   "outputs": [],
   "source": [
    "x = final.drop(columns=[tagert])\n",
    "y = final[tagert]"
   ]
  },
  {
   "cell_type": "code",
   "execution_count": 121,
   "metadata": {
    "colab": {
     "base_uri": "https://localhost:8080/"
    },
    "executionInfo": {
     "elapsed": 20,
     "status": "ok",
     "timestamp": 1761476516429,
     "user": {
      "displayName": "AYA AFFAKI",
      "userId": "16041683805763320174"
     },
     "user_tz": -60
    },
    "id": "TLRC6RSkSEaF",
    "outputId": "cc43566a-5191-4327-eca4-1b7a4f26c2d2"
   },
   "outputs": [
    {
     "name": "stdout",
     "output_type": "stream",
     "text": [
      "old data setshape : Counter({0: 950, 1: 50})\n",
      "new data setshape : Counter({0: 950, 1: 950})\n"
     ]
    }
   ],
   "source": [
    "rm = RandomOverSampler()\n",
    "x_rm ,y_rm = rm.fit_resample(x,y)\n",
    "print('old data setshape : {}'.format(Counter(y)))\n",
    "print('new data setshape : {}'.format(Counter(y_rm)))"
   ]
  },
  {
   "cell_type": "code",
   "execution_count": 122,
   "metadata": {
    "executionInfo": {
     "elapsed": 46,
     "status": "ok",
     "timestamp": 1761476516467,
     "user": {
      "displayName": "AYA AFFAKI",
      "userId": "16041683805763320174"
     },
     "user_tz": -60
    },
    "id": "Xu4B8fmRSOhi"
   },
   "outputs": [],
   "source": [
    "x_train,x_test,y_train,y_test = train_test_split(x_rm,y_rm,test_size=0.2,random_state=41)"
   ]
  },
  {
   "cell_type": "code",
   "execution_count": 123,
   "metadata": {
    "executionInfo": {
     "elapsed": 32,
     "status": "ok",
     "timestamp": 1761476516474,
     "user": {
      "displayName": "AYA AFFAKI",
      "userId": "16041683805763320174"
     },
     "user_tz": -60
    },
    "id": "xTOpUGAVg9WD"
   },
   "outputs": [],
   "source": [
    "x_train = x_train.astype(float)\n",
    "x_test = x_test.astype(float)"
   ]
  },
  {
   "cell_type": "code",
   "execution_count": 124,
   "metadata": {
    "executionInfo": {
     "elapsed": 12,
     "status": "ok",
     "timestamp": 1761476516477,
     "user": {
      "displayName": "AYA AFFAKI",
      "userId": "16041683805763320174"
     },
     "user_tz": -60
    },
    "id": "yIVcUMiyWtZP"
   },
   "outputs": [],
   "source": [
    "x_train = x_train.to_numpy()\n",
    "x_test = x_test.to_numpy()\n",
    "y_train = y_train.to_numpy()\n",
    "y_test = y_test.to_numpy()"
   ]
  },
  {
   "cell_type": "markdown",
   "metadata": {
    "id": "mhhPaavXT_Gx"
   },
   "source": [
    "1️⃣ Fonction pour calculer la distance\n",
    "\n",
    "- Entrée : deux vecteurs (point test et point train)\n",
    "\n",
    "- Sortie : distance (Euclidienne ou autre)"
   ]
  },
  {
   "cell_type": "markdown",
   "metadata": {
    "id": "xdXmHlK2VKRa"
   },
   "source": [
    "2️⃣ Fonction pour trouver les k plus proches voisins\n",
    "\n",
    "- Entrée : point test, points d’entraînement, k\n",
    "\n",
    "- Sortie : liste des classes des k voisins les plus proches"
   ]
  },
  {
   "cell_type": "markdown",
   "metadata": {
    "id": "nWXf2KDnXhjO"
   },
   "source": [
    "4️⃣ Déterminer la classe majoritaire\n",
    "\n",
    "- Compter combien de fois chaque classe apparaît parmi les k voisins.\n",
    "\n",
    "- La classe la plus fréquente devient la prédiction pour ce point test."
   ]
  },
  {
   "cell_type": "markdown",
   "metadata": {
    "id": "eoCwH6h2YhtU"
   },
   "source": [
    "Évaluer le modèle\n",
    "\n",
    "1. Comparer les prédictions avec les vraies classes :\n",
    "\n",
    "  - Accuracy : proportion de bonnes prédictions.\n",
    "\n",
    "- Matrice de confusion : combien de points ont été bien/mal classés par classe.\n",
    "\n",
    "- Précision, rappel, F1-score : pour un aperçu plus détaillé de la performance par classe."
   ]
  },
  {
   "cell_type": "code",
   "execution_count": 125,
   "metadata": {
    "executionInfo": {
     "elapsed": 9,
     "status": "ok",
     "timestamp": 1761476516499,
     "user": {
      "displayName": "AYA AFFAKI",
      "userId": "16041683805763320174"
     },
     "user_tz": -60
    },
    "id": "QmspQzsZKm8Q"
   },
   "outputs": [],
   "source": [
    "def KNN(K, X_train, X_test, Y_train, Y_test):\n",
    "    \"\"\"\n",
    "    Implémentation complète de l’algorithme KNN (K-Nearest Neighbors)\n",
    "    ---------------------------------------------------------------\n",
    "    K : nombre de voisins à considérer\n",
    "    X_train : données d’entraînement (numpy array ou liste)\n",
    "    X_test  : données de test\n",
    "    Y_train : étiquettes d’entraînement\n",
    "    Y_test  : étiquettes de test\n",
    "    \"\"\"\n",
    "\n",
    "    # Assurer la conversion en numpy arrays\n",
    "    X_train = np.array(X_train, dtype=float)\n",
    "    X_test = np.array(X_test, dtype=float)\n",
    "    Y_train = np.array(Y_train)\n",
    "\n",
    "    y_pred = []  # Liste des prédictions\n",
    "\n",
    "    # Boucle sur chaque point de test\n",
    "    for point_test in X_test:\n",
    "        # Calcul des distances euclidiennes\n",
    "        distances = np.sqrt(np.sum((X_train - point_test)**2, axis=1))\n",
    "\n",
    "        # Indices triés (du plus proche au plus éloigné)\n",
    "        indices_tries = np.argsort(distances)\n",
    "\n",
    "        # Sélection des K plus proches voisins\n",
    "        k_plus_proche = indices_tries[:K]\n",
    "\n",
    "        # Détermination de la classe majoritaire\n",
    "        classes = [Y_train[i] for i in k_plus_proche]\n",
    "        classe_predite = Counter(classes).most_common(1)[0][0]\n",
    "        y_pred.append(classe_predite)\n",
    "\n",
    "    # Calcul des métriques de performance\n",
    "    accuracy = np.mean(Y_test == y_pred)\n",
    "    matrix_conf = confusion_matrix(Y_test, y_pred)\n",
    "    rappel = recall_score(Y_test, y_pred, average='macro')\n",
    "    f1 = f1_score(Y_test, y_pred, average='macro')\n",
    "\n",
    "    return accuracy, matrix_conf, rappel, f1\n"
   ]
  },
  {
   "cell_type": "code",
   "execution_count": 129,
   "metadata": {
    "colab": {
     "base_uri": "https://localhost:8080/"
    },
    "executionInfo": {
     "elapsed": 87,
     "status": "ok",
     "timestamp": 1761476638333,
     "user": {
      "displayName": "AYA AFFAKI",
      "userId": "16041683805763320174"
     },
     "user_tz": -60
    },
    "id": "4IMljVtsKqRn",
    "outputId": "cad08929-b512-413a-ade9-eeabce03f68c"
   },
   "outputs": [
    {
     "name": "stdout",
     "output_type": "stream",
     "text": [
      "Accuracy : 0.9763157894736842\n",
      "Matrice de confusion : \n",
      "[[171   9]\n",
      " [  0 200]]\n",
      "Rappel : 0.975\n",
      "F1-score : 0.9761770421917121\n"
     ]
    }
   ],
   "source": [
    "k = 3\n",
    "accuracy, matrix_conf, rappel, f1 = KNN(k, x_train, x_test, y_train, y_test)\n",
    "print(f\"Accuracy : {accuracy}\")\n",
    "print(f\"Matrice de confusion : \\n{matrix_conf}\")\n",
    "print(f\"Rappel : {rappel}\")\n",
    "print(f\"F1-score : {f1}\")"
   ]
  },
  {
   "cell_type": "code",
   "execution_count": 130,
   "metadata": {
    "executionInfo": {
     "elapsed": 12,
     "status": "ok",
     "timestamp": 1761476661784,
     "user": {
      "displayName": "AYA AFFAKI",
      "userId": "16041683805763320174"
     },
     "user_tz": -60
    },
    "id": "mqMQtFMwMIan"
   },
   "outputs": [],
   "source": [
    "model = KNeighborsClassifier(n_neighbors=k)\n",
    "model.fit(x_train, y_train)\n",
    "y_pred  = model.predict(x_test)\n"
   ]
  },
  {
   "cell_type": "code",
   "execution_count": 131,
   "metadata": {
    "colab": {
     "base_uri": "https://localhost:8080/"
    },
    "executionInfo": {
     "elapsed": 93,
     "status": "ok",
     "timestamp": 1761476685905,
     "user": {
      "displayName": "AYA AFFAKI",
      "userId": "16041683805763320174"
     },
     "user_tz": -60
    },
    "id": "UPNxCiwSMNsB",
    "outputId": "7ce801c3-0f70-45b9-9787-2e9052963056"
   },
   "outputs": [
    {
     "name": "stdout",
     "output_type": "stream",
     "text": [
      "Accuracy : 0.9763157894736842\n",
      "Rappel : 0.975\n",
      "F1-score : 0.9761770421917121\n"
     ]
    }
   ],
   "source": [
    "acc = accuracy_score(y_test, y_pred)\n",
    "print(f\"Accuracy : {acc}\")\n",
    "R = recall_score(y_test, y_pred, average='macro')\n",
    "print(f\"Rappel : {R}\")\n",
    "F1 = f1_score(y_test, y_pred, average='macro')\n",
    "print(f\"F1-score : {F1}\")"
   ]
  }
 ],
 "metadata": {
  "accelerator": "GPU",
  "colab": {
   "authorship_tag": "ABX9TyOt+/hPC4Vz4gxfc6tojujK",
   "gpuType": "T4",
   "provenance": []
  },
  "kernelspec": {
   "display_name": "Python 3",
   "name": "python3"
  },
  "language_info": {
   "name": "python"
  }
 },
 "nbformat": 4,
 "nbformat_minor": 0
}
